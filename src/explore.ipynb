{
    "cells": [
        {
            "cell_type": "markdown",
            "metadata": {},
            "source": [
                "# Explore here"
            ]
        },
        {
            "cell_type": "code",
            "execution_count": 3,
            "metadata": {},
            "outputs": [
                {
                    "name": "stdout",
                    "output_type": "stream",
                    "text": [
                        "Defaulting to user installation because normal site-packages is not writeable\n",
                        "Requirement already satisfied: seaborn in /home/vscode/.local/lib/python3.10/site-packages (0.13.2)\n",
                        "Requirement already satisfied: pandas>=1.2 in /home/vscode/.local/lib/python3.10/site-packages (from seaborn) (2.2.1)\n",
                        "Requirement already satisfied: numpy!=1.24.0,>=1.20 in /home/vscode/.local/lib/python3.10/site-packages (from seaborn) (1.26.4)\n",
                        "Requirement already satisfied: matplotlib!=3.6.1,>=3.4 in /home/vscode/.local/lib/python3.10/site-packages (from seaborn) (3.8.3)\n",
                        "Requirement already satisfied: python-dateutil>=2.7 in /home/vscode/.local/lib/python3.10/site-packages (from matplotlib!=3.6.1,>=3.4->seaborn) (2.9.0.post0)\n",
                        "Requirement already satisfied: pillow>=8 in /home/vscode/.local/lib/python3.10/site-packages (from matplotlib!=3.6.1,>=3.4->seaborn) (10.2.0)\n",
                        "Requirement already satisfied: pyparsing>=2.3.1 in /home/vscode/.local/lib/python3.10/site-packages (from matplotlib!=3.6.1,>=3.4->seaborn) (3.1.2)\n",
                        "Requirement already satisfied: kiwisolver>=1.3.1 in /home/vscode/.local/lib/python3.10/site-packages (from matplotlib!=3.6.1,>=3.4->seaborn) (1.4.5)\n",
                        "Requirement already satisfied: fonttools>=4.22.0 in /home/vscode/.local/lib/python3.10/site-packages (from matplotlib!=3.6.1,>=3.4->seaborn) (4.50.0)\n",
                        "Requirement already satisfied: cycler>=0.10 in /home/vscode/.local/lib/python3.10/site-packages (from matplotlib!=3.6.1,>=3.4->seaborn) (0.12.1)\n",
                        "Requirement already satisfied: contourpy>=1.0.1 in /home/vscode/.local/lib/python3.10/site-packages (from matplotlib!=3.6.1,>=3.4->seaborn) (1.2.0)\n",
                        "Requirement already satisfied: packaging>=20.0 in /home/vscode/.local/lib/python3.10/site-packages (from matplotlib!=3.6.1,>=3.4->seaborn) (24.0)\n",
                        "Requirement already satisfied: pytz>=2020.1 in /home/vscode/.local/lib/python3.10/site-packages (from pandas>=1.2->seaborn) (2024.1)\n",
                        "Requirement already satisfied: tzdata>=2022.7 in /home/vscode/.local/lib/python3.10/site-packages (from pandas>=1.2->seaborn) (2024.1)\n",
                        "Requirement already satisfied: six>=1.5 in /home/vscode/.local/lib/python3.10/site-packages (from python-dateutil>=2.7->matplotlib!=3.6.1,>=3.4->seaborn) (1.16.0)\n",
                        "\n",
                        "\u001b[1m[\u001b[0m\u001b[34;49mnotice\u001b[0m\u001b[1;39;49m]\u001b[0m\u001b[39;49m A new release of pip is available: \u001b[0m\u001b[31;49m23.0.1\u001b[0m\u001b[39;49m -> \u001b[0m\u001b[32;49m24.0\u001b[0m\n",
                        "\u001b[1m[\u001b[0m\u001b[34;49mnotice\u001b[0m\u001b[1;39;49m]\u001b[0m\u001b[39;49m To update, run: \u001b[0m\u001b[32;49mpip install --upgrade pip\u001b[0m\n",
                        "Defaulting to user installation because normal site-packages is not writeable\n",
                        "Requirement already satisfied: scikit-learn in /home/vscode/.local/lib/python3.10/site-packages (1.4.1.post1)\n",
                        "Requirement already satisfied: scipy>=1.6.0 in /home/vscode/.local/lib/python3.10/site-packages (from scikit-learn) (1.12.0)\n",
                        "Requirement already satisfied: numpy<2.0,>=1.19.5 in /home/vscode/.local/lib/python3.10/site-packages (from scikit-learn) (1.26.4)\n",
                        "Requirement already satisfied: threadpoolctl>=2.0.0 in /home/vscode/.local/lib/python3.10/site-packages (from scikit-learn) (3.4.0)\n",
                        "Requirement already satisfied: joblib>=1.2.0 in /home/vscode/.local/lib/python3.10/site-packages (from scikit-learn) (1.3.2)\n",
                        "\n",
                        "\u001b[1m[\u001b[0m\u001b[34;49mnotice\u001b[0m\u001b[1;39;49m]\u001b[0m\u001b[39;49m A new release of pip is available: \u001b[0m\u001b[31;49m23.0.1\u001b[0m\u001b[39;49m -> \u001b[0m\u001b[32;49m24.0\u001b[0m\n",
                        "\u001b[1m[\u001b[0m\u001b[34;49mnotice\u001b[0m\u001b[1;39;49m]\u001b[0m\u001b[39;49m To update, run: \u001b[0m\u001b[32;49mpip install --upgrade pip\u001b[0m\n",
                        "Defaulting to user installation because normal site-packages is not writeable\n",
                        "Requirement already satisfied: statsmodels in /home/vscode/.local/lib/python3.10/site-packages (0.14.1)\n",
                        "Requirement already satisfied: scipy!=1.9.2,>=1.4 in /home/vscode/.local/lib/python3.10/site-packages (from statsmodels) (1.12.0)\n",
                        "Requirement already satisfied: patsy>=0.5.4 in /home/vscode/.local/lib/python3.10/site-packages (from statsmodels) (0.5.6)\n",
                        "Requirement already satisfied: packaging>=21.3 in /home/vscode/.local/lib/python3.10/site-packages (from statsmodels) (24.0)\n",
                        "Requirement already satisfied: numpy<2,>=1.18 in /home/vscode/.local/lib/python3.10/site-packages (from statsmodels) (1.26.4)\n",
                        "Requirement already satisfied: pandas!=2.1.0,>=1.0 in /home/vscode/.local/lib/python3.10/site-packages (from statsmodels) (2.2.1)\n",
                        "Requirement already satisfied: pytz>=2020.1 in /home/vscode/.local/lib/python3.10/site-packages (from pandas!=2.1.0,>=1.0->statsmodels) (2024.1)\n",
                        "Requirement already satisfied: tzdata>=2022.7 in /home/vscode/.local/lib/python3.10/site-packages (from pandas!=2.1.0,>=1.0->statsmodels) (2024.1)\n",
                        "Requirement already satisfied: python-dateutil>=2.8.2 in /home/vscode/.local/lib/python3.10/site-packages (from pandas!=2.1.0,>=1.0->statsmodels) (2.9.0.post0)\n",
                        "Requirement already satisfied: six in /home/vscode/.local/lib/python3.10/site-packages (from patsy>=0.5.4->statsmodels) (1.16.0)\n",
                        "\n",
                        "\u001b[1m[\u001b[0m\u001b[34;49mnotice\u001b[0m\u001b[1;39;49m]\u001b[0m\u001b[39;49m A new release of pip is available: \u001b[0m\u001b[31;49m23.0.1\u001b[0m\u001b[39;49m -> \u001b[0m\u001b[32;49m24.0\u001b[0m\n",
                        "\u001b[1m[\u001b[0m\u001b[34;49mnotice\u001b[0m\u001b[1;39;49m]\u001b[0m\u001b[39;49m To update, run: \u001b[0m\u001b[32;49mpip install --upgrade pip\u001b[0m\n",
                        "Defaulting to user installation because normal site-packages is not writeable\n",
                        "Requirement already satisfied: spacy in /home/vscode/.local/lib/python3.10/site-packages (3.7.4)\n",
                        "Requirement already satisfied: packaging>=20.0 in /home/vscode/.local/lib/python3.10/site-packages (from spacy) (24.0)\n",
                        "Requirement already satisfied: smart-open<7.0.0,>=5.2.1 in /home/vscode/.local/lib/python3.10/site-packages (from spacy) (6.4.0)\n",
                        "Requirement already satisfied: thinc<8.3.0,>=8.2.2 in /home/vscode/.local/lib/python3.10/site-packages (from spacy) (8.2.3)\n",
                        "Requirement already satisfied: spacy-loggers<2.0.0,>=1.0.0 in /home/vscode/.local/lib/python3.10/site-packages (from spacy) (1.0.5)\n",
                        "Requirement already satisfied: srsly<3.0.0,>=2.4.3 in /home/vscode/.local/lib/python3.10/site-packages (from spacy) (2.4.8)\n",
                        "Requirement already satisfied: cymem<2.1.0,>=2.0.2 in /home/vscode/.local/lib/python3.10/site-packages (from spacy) (2.0.8)\n",
                        "Requirement already satisfied: pydantic!=1.8,!=1.8.1,<3.0.0,>=1.7.4 in /home/vscode/.local/lib/python3.10/site-packages (from spacy) (2.6.4)\n",
                        "Requirement already satisfied: langcodes<4.0.0,>=3.2.0 in /home/vscode/.local/lib/python3.10/site-packages (from spacy) (3.3.0)\n",
                        "Requirement already satisfied: spacy-legacy<3.1.0,>=3.0.11 in /home/vscode/.local/lib/python3.10/site-packages (from spacy) (3.0.12)\n",
                        "Requirement already satisfied: jinja2 in /home/vscode/.local/lib/python3.10/site-packages (from spacy) (3.1.3)\n",
                        "Requirement already satisfied: wasabi<1.2.0,>=0.9.1 in /home/vscode/.local/lib/python3.10/site-packages (from spacy) (1.1.2)\n",
                        "Requirement already satisfied: requests<3.0.0,>=2.13.0 in /home/vscode/.local/lib/python3.10/site-packages (from spacy) (2.31.0)\n",
                        "Requirement already satisfied: murmurhash<1.1.0,>=0.28.0 in /home/vscode/.local/lib/python3.10/site-packages (from spacy) (1.0.10)\n",
                        "Requirement already satisfied: typer<0.10.0,>=0.3.0 in /home/vscode/.local/lib/python3.10/site-packages (from spacy) (0.9.4)\n",
                        "Requirement already satisfied: catalogue<2.1.0,>=2.0.6 in /home/vscode/.local/lib/python3.10/site-packages (from spacy) (2.0.10)\n",
                        "Requirement already satisfied: preshed<3.1.0,>=3.0.2 in /home/vscode/.local/lib/python3.10/site-packages (from spacy) (3.0.9)\n",
                        "Requirement already satisfied: setuptools in /usr/local/lib/python3.10/site-packages (from spacy) (67.8.0)\n",
                        "Requirement already satisfied: numpy>=1.19.0 in /home/vscode/.local/lib/python3.10/site-packages (from spacy) (1.26.4)\n",
                        "Requirement already satisfied: tqdm<5.0.0,>=4.38.0 in /home/vscode/.local/lib/python3.10/site-packages (from spacy) (4.66.2)\n",
                        "Requirement already satisfied: weasel<0.4.0,>=0.1.0 in /home/vscode/.local/lib/python3.10/site-packages (from spacy) (0.3.4)\n",
                        "Requirement already satisfied: typing-extensions>=4.6.1 in /home/vscode/.local/lib/python3.10/site-packages (from pydantic!=1.8,!=1.8.1,<3.0.0,>=1.7.4->spacy) (4.10.0)\n",
                        "Requirement already satisfied: annotated-types>=0.4.0 in /home/vscode/.local/lib/python3.10/site-packages (from pydantic!=1.8,!=1.8.1,<3.0.0,>=1.7.4->spacy) (0.6.0)\n",
                        "Requirement already satisfied: pydantic-core==2.16.3 in /home/vscode/.local/lib/python3.10/site-packages (from pydantic!=1.8,!=1.8.1,<3.0.0,>=1.7.4->spacy) (2.16.3)\n",
                        "Requirement already satisfied: urllib3<3,>=1.21.1 in /home/vscode/.local/lib/python3.10/site-packages (from requests<3.0.0,>=2.13.0->spacy) (2.2.1)\n",
                        "Requirement already satisfied: idna<4,>=2.5 in /home/vscode/.local/lib/python3.10/site-packages (from requests<3.0.0,>=2.13.0->spacy) (3.6)\n",
                        "Requirement already satisfied: charset-normalizer<4,>=2 in /home/vscode/.local/lib/python3.10/site-packages (from requests<3.0.0,>=2.13.0->spacy) (3.3.2)\n",
                        "Requirement already satisfied: certifi>=2017.4.17 in /home/vscode/.local/lib/python3.10/site-packages (from requests<3.0.0,>=2.13.0->spacy) (2024.2.2)\n",
                        "Requirement already satisfied: confection<1.0.0,>=0.0.1 in /home/vscode/.local/lib/python3.10/site-packages (from thinc<8.3.0,>=8.2.2->spacy) (0.1.4)\n",
                        "Requirement already satisfied: blis<0.8.0,>=0.7.8 in /home/vscode/.local/lib/python3.10/site-packages (from thinc<8.3.0,>=8.2.2->spacy) (0.7.11)\n",
                        "Requirement already satisfied: click<9.0.0,>=7.1.1 in /home/vscode/.local/lib/python3.10/site-packages (from typer<0.10.0,>=0.3.0->spacy) (8.1.7)\n",
                        "Requirement already satisfied: cloudpathlib<0.17.0,>=0.7.0 in /home/vscode/.local/lib/python3.10/site-packages (from weasel<0.4.0,>=0.1.0->spacy) (0.16.0)\n",
                        "Requirement already satisfied: MarkupSafe>=2.0 in /home/vscode/.local/lib/python3.10/site-packages (from jinja2->spacy) (2.1.5)\n",
                        "\n",
                        "\u001b[1m[\u001b[0m\u001b[34;49mnotice\u001b[0m\u001b[1;39;49m]\u001b[0m\u001b[39;49m A new release of pip is available: \u001b[0m\u001b[31;49m23.0.1\u001b[0m\u001b[39;49m -> \u001b[0m\u001b[32;49m24.0\u001b[0m\n",
                        "\u001b[1m[\u001b[0m\u001b[34;49mnotice\u001b[0m\u001b[1;39;49m]\u001b[0m\u001b[39;49m To update, run: \u001b[0m\u001b[32;49mpip install --upgrade pip\u001b[0m\n",
                        "Defaulting to user installation because normal site-packages is not writeable\n",
                        "Requirement already satisfied: xgboost in /home/vscode/.local/lib/python3.10/site-packages (2.0.3)\n",
                        "Requirement already satisfied: numpy in /home/vscode/.local/lib/python3.10/site-packages (from xgboost) (1.26.4)\n",
                        "Requirement already satisfied: scipy in /home/vscode/.local/lib/python3.10/site-packages (from xgboost) (1.12.0)\n",
                        "\n",
                        "\u001b[1m[\u001b[0m\u001b[34;49mnotice\u001b[0m\u001b[1;39;49m]\u001b[0m\u001b[39;49m A new release of pip is available: \u001b[0m\u001b[31;49m23.0.1\u001b[0m\u001b[39;49m -> \u001b[0m\u001b[32;49m24.0\u001b[0m\n",
                        "\u001b[1m[\u001b[0m\u001b[34;49mnotice\u001b[0m\u001b[1;39;49m]\u001b[0m\u001b[39;49m To update, run: \u001b[0m\u001b[32;49mpip install --upgrade pip\u001b[0m\n"
                    ]
                }
            ],
            "source": [
                "!pip install seaborn\n",
                "!pip install scikit-learn\n",
                "!pip install statsmodels\n",
                "!pip install spacy\n",
                "!pip install xgboost"
            ]
        },
        {
            "cell_type": "code",
            "execution_count": 35,
            "metadata": {},
            "outputs": [],
            "source": [
                "import pandas as pd\n",
                "from sklearn.feature_extraction.text import CountVectorizer\n",
                "from sklearn.model_selection import train_test_split\n",
                "from sklearn.naive_bayes import MultinomialNB, GaussianNB, BernoulliNB\n",
                "from sklearn.metrics import classification_report\n",
                "import numpy as np\n",
                "from sklearn.model_selection import GridSearchCV\n",
                "import spacy\n",
                "import xgboost as xgb\n",
                "from sklearn.ensemble import RandomForestClassifier\n",
                "from joblib import dump"
            ]
        },
        {
            "cell_type": "code",
            "execution_count": 5,
            "metadata": {},
            "outputs": [],
            "source": [
                "url = \"https://raw.githubusercontent.com/4GeeksAcademy/naive-bayes-project-tutorial/main/playstore_reviews.csv\"\n",
                "df = pd.read_csv(url)"
            ]
        },
        {
            "cell_type": "code",
            "execution_count": 6,
            "metadata": {},
            "outputs": [
                {
                    "data": {
                        "text/html": [
                            "<div>\n",
                            "<style scoped>\n",
                            "    .dataframe tbody tr th:only-of-type {\n",
                            "        vertical-align: middle;\n",
                            "    }\n",
                            "\n",
                            "    .dataframe tbody tr th {\n",
                            "        vertical-align: top;\n",
                            "    }\n",
                            "\n",
                            "    .dataframe thead th {\n",
                            "        text-align: right;\n",
                            "    }\n",
                            "</style>\n",
                            "<table border=\"1\" class=\"dataframe\">\n",
                            "  <thead>\n",
                            "    <tr style=\"text-align: right;\">\n",
                            "      <th></th>\n",
                            "      <th>package_name</th>\n",
                            "      <th>review</th>\n",
                            "      <th>polarity</th>\n",
                            "    </tr>\n",
                            "  </thead>\n",
                            "  <tbody>\n",
                            "    <tr>\n",
                            "      <th>0</th>\n",
                            "      <td>com.facebook.katana</td>\n",
                            "      <td>privacy at least put some option appear offli...</td>\n",
                            "      <td>0</td>\n",
                            "    </tr>\n",
                            "    <tr>\n",
                            "      <th>1</th>\n",
                            "      <td>com.facebook.katana</td>\n",
                            "      <td>messenger issues ever since the last update, ...</td>\n",
                            "      <td>0</td>\n",
                            "    </tr>\n",
                            "    <tr>\n",
                            "      <th>2</th>\n",
                            "      <td>com.facebook.katana</td>\n",
                            "      <td>profile any time my wife or anybody has more ...</td>\n",
                            "      <td>0</td>\n",
                            "    </tr>\n",
                            "    <tr>\n",
                            "      <th>3</th>\n",
                            "      <td>com.facebook.katana</td>\n",
                            "      <td>the new features suck for those of us who don...</td>\n",
                            "      <td>0</td>\n",
                            "    </tr>\n",
                            "    <tr>\n",
                            "      <th>4</th>\n",
                            "      <td>com.facebook.katana</td>\n",
                            "      <td>forced reload on uploading pic on replying co...</td>\n",
                            "      <td>0</td>\n",
                            "    </tr>\n",
                            "    <tr>\n",
                            "      <th>...</th>\n",
                            "      <td>...</td>\n",
                            "      <td>...</td>\n",
                            "      <td>...</td>\n",
                            "    </tr>\n",
                            "    <tr>\n",
                            "      <th>886</th>\n",
                            "      <td>com.rovio.angrybirds</td>\n",
                            "      <td>loved it i loooooooooooooovvved it because it...</td>\n",
                            "      <td>1</td>\n",
                            "    </tr>\n",
                            "    <tr>\n",
                            "      <th>887</th>\n",
                            "      <td>com.rovio.angrybirds</td>\n",
                            "      <td>all time legendary game the birthday party le...</td>\n",
                            "      <td>1</td>\n",
                            "    </tr>\n",
                            "    <tr>\n",
                            "      <th>888</th>\n",
                            "      <td>com.rovio.angrybirds</td>\n",
                            "      <td>ads are way to heavy listen to the bad review...</td>\n",
                            "      <td>0</td>\n",
                            "    </tr>\n",
                            "    <tr>\n",
                            "      <th>889</th>\n",
                            "      <td>com.rovio.angrybirds</td>\n",
                            "      <td>fun works perfectly well. ads aren't as annoy...</td>\n",
                            "      <td>1</td>\n",
                            "    </tr>\n",
                            "    <tr>\n",
                            "      <th>890</th>\n",
                            "      <td>com.rovio.angrybirds</td>\n",
                            "      <td>they're everywhere i see angry birds everywhe...</td>\n",
                            "      <td>1</td>\n",
                            "    </tr>\n",
                            "  </tbody>\n",
                            "</table>\n",
                            "<p>891 rows × 3 columns</p>\n",
                            "</div>"
                        ],
                        "text/plain": [
                            "             package_name                                             review  \\\n",
                            "0     com.facebook.katana   privacy at least put some option appear offli...   \n",
                            "1     com.facebook.katana   messenger issues ever since the last update, ...   \n",
                            "2     com.facebook.katana   profile any time my wife or anybody has more ...   \n",
                            "3     com.facebook.katana   the new features suck for those of us who don...   \n",
                            "4     com.facebook.katana   forced reload on uploading pic on replying co...   \n",
                            "..                    ...                                                ...   \n",
                            "886  com.rovio.angrybirds   loved it i loooooooooooooovvved it because it...   \n",
                            "887  com.rovio.angrybirds   all time legendary game the birthday party le...   \n",
                            "888  com.rovio.angrybirds   ads are way to heavy listen to the bad review...   \n",
                            "889  com.rovio.angrybirds   fun works perfectly well. ads aren't as annoy...   \n",
                            "890  com.rovio.angrybirds   they're everywhere i see angry birds everywhe...   \n",
                            "\n",
                            "     polarity  \n",
                            "0           0  \n",
                            "1           0  \n",
                            "2           0  \n",
                            "3           0  \n",
                            "4           0  \n",
                            "..        ...  \n",
                            "886         1  \n",
                            "887         1  \n",
                            "888         0  \n",
                            "889         1  \n",
                            "890         1  \n",
                            "\n",
                            "[891 rows x 3 columns]"
                        ]
                    },
                    "execution_count": 6,
                    "metadata": {},
                    "output_type": "execute_result"
                }
            ],
            "source": [
                "df"
            ]
        },
        {
            "cell_type": "code",
            "execution_count": 7,
            "metadata": {},
            "outputs": [
                {
                    "name": "stdout",
                    "output_type": "stream",
                    "text": [
                        "package_name    0\n",
                        "review          0\n",
                        "polarity        0\n",
                        "dtype: int64\n"
                    ]
                }
            ],
            "source": [
                "print(df.isnull().sum())"
            ]
        },
        {
            "cell_type": "code",
            "execution_count": 8,
            "metadata": {},
            "outputs": [],
            "source": [
                "df = df.drop(['package_name'], axis = 1)"
            ]
        },
        {
            "cell_type": "code",
            "execution_count": 9,
            "metadata": {},
            "outputs": [
                {
                    "data": {
                        "text/html": [
                            "<div>\n",
                            "<style scoped>\n",
                            "    .dataframe tbody tr th:only-of-type {\n",
                            "        vertical-align: middle;\n",
                            "    }\n",
                            "\n",
                            "    .dataframe tbody tr th {\n",
                            "        vertical-align: top;\n",
                            "    }\n",
                            "\n",
                            "    .dataframe thead th {\n",
                            "        text-align: right;\n",
                            "    }\n",
                            "</style>\n",
                            "<table border=\"1\" class=\"dataframe\">\n",
                            "  <thead>\n",
                            "    <tr style=\"text-align: right;\">\n",
                            "      <th></th>\n",
                            "      <th>review</th>\n",
                            "      <th>polarity</th>\n",
                            "    </tr>\n",
                            "  </thead>\n",
                            "  <tbody>\n",
                            "    <tr>\n",
                            "      <th>0</th>\n",
                            "      <td>privacy at least put some option appear offli...</td>\n",
                            "      <td>0</td>\n",
                            "    </tr>\n",
                            "    <tr>\n",
                            "      <th>1</th>\n",
                            "      <td>messenger issues ever since the last update, ...</td>\n",
                            "      <td>0</td>\n",
                            "    </tr>\n",
                            "    <tr>\n",
                            "      <th>2</th>\n",
                            "      <td>profile any time my wife or anybody has more ...</td>\n",
                            "      <td>0</td>\n",
                            "    </tr>\n",
                            "    <tr>\n",
                            "      <th>3</th>\n",
                            "      <td>the new features suck for those of us who don...</td>\n",
                            "      <td>0</td>\n",
                            "    </tr>\n",
                            "    <tr>\n",
                            "      <th>4</th>\n",
                            "      <td>forced reload on uploading pic on replying co...</td>\n",
                            "      <td>0</td>\n",
                            "    </tr>\n",
                            "    <tr>\n",
                            "      <th>...</th>\n",
                            "      <td>...</td>\n",
                            "      <td>...</td>\n",
                            "    </tr>\n",
                            "    <tr>\n",
                            "      <th>886</th>\n",
                            "      <td>loved it i loooooooooooooovvved it because it...</td>\n",
                            "      <td>1</td>\n",
                            "    </tr>\n",
                            "    <tr>\n",
                            "      <th>887</th>\n",
                            "      <td>all time legendary game the birthday party le...</td>\n",
                            "      <td>1</td>\n",
                            "    </tr>\n",
                            "    <tr>\n",
                            "      <th>888</th>\n",
                            "      <td>ads are way to heavy listen to the bad review...</td>\n",
                            "      <td>0</td>\n",
                            "    </tr>\n",
                            "    <tr>\n",
                            "      <th>889</th>\n",
                            "      <td>fun works perfectly well. ads aren't as annoy...</td>\n",
                            "      <td>1</td>\n",
                            "    </tr>\n",
                            "    <tr>\n",
                            "      <th>890</th>\n",
                            "      <td>they're everywhere i see angry birds everywhe...</td>\n",
                            "      <td>1</td>\n",
                            "    </tr>\n",
                            "  </tbody>\n",
                            "</table>\n",
                            "<p>891 rows × 2 columns</p>\n",
                            "</div>"
                        ],
                        "text/plain": [
                            "                                                review  polarity\n",
                            "0     privacy at least put some option appear offli...         0\n",
                            "1     messenger issues ever since the last update, ...         0\n",
                            "2     profile any time my wife or anybody has more ...         0\n",
                            "3     the new features suck for those of us who don...         0\n",
                            "4     forced reload on uploading pic on replying co...         0\n",
                            "..                                                 ...       ...\n",
                            "886   loved it i loooooooooooooovvved it because it...         1\n",
                            "887   all time legendary game the birthday party le...         1\n",
                            "888   ads are way to heavy listen to the bad review...         0\n",
                            "889   fun works perfectly well. ads aren't as annoy...         1\n",
                            "890   they're everywhere i see angry birds everywhe...         1\n",
                            "\n",
                            "[891 rows x 2 columns]"
                        ]
                    },
                    "execution_count": 9,
                    "metadata": {},
                    "output_type": "execute_result"
                }
            ],
            "source": [
                "df"
            ]
        },
        {
            "cell_type": "code",
            "execution_count": 10,
            "metadata": {},
            "outputs": [],
            "source": [
                "df[\"review\"] = df[\"review\"].str.strip().str.lower()"
            ]
        },
        {
            "cell_type": "code",
            "execution_count": 11,
            "metadata": {},
            "outputs": [],
            "source": [
                "# Dividimos los datos en conjuntos de entrenamiento y testeo\n",
                "X_train, X_test, y_train, y_test = train_test_split(df['review'], df['polarity'], test_size=0.2, random_state=42)"
            ]
        },
        {
            "cell_type": "code",
            "execution_count": 12,
            "metadata": {},
            "outputs": [],
            "source": [
                "# Realizamos el conteo de palabras en los textos usando CountVectorizer\n",
                "vectorizer = CountVectorizer(stop_words = \"english\")\n",
                "X_train_vec = vectorizer.fit_transform(X_train).toarray()\n",
                "X_test_vec = vectorizer.transform(X_test).toarray()"
            ]
        },
        {
            "cell_type": "code",
            "execution_count": 13,
            "metadata": {},
            "outputs": [
                {
                    "name": "stdout",
                    "output_type": "stream",
                    "text": [
                        "Bolsa de palabras que se usa para el entrenamiento:\n",
                        "['000' '04' '0x' ... 'žŕ' 'žŕľ' 'ˇŕ']\n"
                    ]
                }
            ],
            "source": [
                "print(f'Bolsa de palabras que se usa para el entrenamiento:\\n{vectorizer.get_feature_names_out()}')"
            ]
        },
        {
            "cell_type": "code",
            "execution_count": 14,
            "metadata": {},
            "outputs": [
                {
                    "data": {
                        "text/plain": [
                            "709    love/hate has bug and security issues. i tried...\n",
                            "439    whatsapp i use this app now that blackberry me...\n",
                            "840                             usefully verry  nice app\n",
                            "720    fonts why in the heck is this thing analysing ...\n",
                            "39     app doesn't work after latest upgrade the face...\n",
                            "                             ...                        \n",
                            "433    app continuously losses connection, at times i...\n",
                            "773    way below expection. why does it lag so much? ...\n",
                            "25     can't install (error code: -505) have samsung ...\n",
                            "84     sort it out why can i not get my networks post...\n",
                            "10     what the heck?! can't get status updates to be...\n",
                            "Name: review, Length: 179, dtype: object"
                        ]
                    },
                    "execution_count": 14,
                    "metadata": {},
                    "output_type": "execute_result"
                }
            ],
            "source": [
                "X_test"
            ]
        },
        {
            "cell_type": "code",
            "execution_count": 15,
            "metadata": {},
            "outputs": [
                {
                    "name": "stdout",
                    "output_type": "stream",
                    "text": [
                        "Email de prueba: love/hate has bug and security issues. i tried to report that facebook and google plus have security issues and it wouldn't allow me to do so! well i just did didn't i! ......\n",
                        "\n",
                        "Palabras del conjunto de entrenamiento que también aparecen en el email de test junto con su aparición:\n",
                        "\n",
                        "Palabra: \"allow\"\n",
                        "--> Aparece 1 veces en el email.\n",
                        "Palabra: \"bug\"\n",
                        "--> Aparece 1 veces en el email.\n",
                        "Palabra: \"did\"\n",
                        "--> Aparece 1 veces en el email.\n",
                        "Palabra: \"didn\"\n",
                        "--> Aparece 1 veces en el email.\n",
                        "Palabra: \"facebook\"\n",
                        "--> Aparece 1 veces en el email.\n",
                        "Palabra: \"google\"\n",
                        "--> Aparece 1 veces en el email.\n",
                        "Palabra: \"hate\"\n",
                        "--> Aparece 1 veces en el email.\n",
                        "Palabra: \"issues\"\n",
                        "--> Aparece 2 veces en el email.\n",
                        "Palabra: \"just\"\n",
                        "--> Aparece 1 veces en el email.\n",
                        "Palabra: \"love\"\n",
                        "--> Aparece 1 veces en el email.\n",
                        "Palabra: \"plus\"\n",
                        "--> Aparece 1 veces en el email.\n",
                        "Palabra: \"report\"\n",
                        "--> Aparece 1 veces en el email.\n",
                        "Palabra: \"security\"\n",
                        "--> Aparece 2 veces en el email.\n",
                        "Palabra: \"tried\"\n",
                        "--> Aparece 1 veces en el email.\n",
                        "Palabra: \"wouldn\"\n",
                        "--> Aparece 1 veces en el email.\n"
                    ]
                }
            ],
            "source": [
                "print(f'Email de prueba: {X_test.iloc[0]}')\n",
                "print('\\nPalabras del conjunto de entrenamiento que también aparecen en el email de test junto con su aparición:\\n')\n",
                "for i, cont in enumerate(X_test_vec[0]):\n",
                "  if cont!=0:\n",
                "    print(f'Palabra: \"{vectorizer.get_feature_names_out()[i]}\"')\n",
                "    print(f'--> Aparece {cont} veces en el email.')"
            ]
        },
        {
            "cell_type": "code",
            "execution_count": 16,
            "metadata": {},
            "outputs": [
                {
                    "name": "stdout",
                    "output_type": "stream",
                    "text": [
                        "Para el modelo Multinominal\n",
                        "              precision    recall  f1-score   support\n",
                        "\n",
                        "           0       0.84      0.90      0.87       126\n",
                        "           1       0.73      0.60      0.66        53\n",
                        "\n",
                        "    accuracy                           0.82       179\n",
                        "   macro avg       0.79      0.75      0.77       179\n",
                        "weighted avg       0.81      0.82      0.81       179\n",
                        "\n"
                    ]
                }
            ],
            "source": [
                "# Inicializar y entrenar el clasificador Naive Bayes Multinomial\n",
                "clf = MultinomialNB().fit(X_train_vec, y_train)\n",
                "\n",
                "# Realizar predicciones en el conjunto de prueba\n",
                "y_pred_MNB = clf.predict(X_test_vec)\n",
                "\n",
                "# Evaluar el rendimiento del modelo\n",
                "print('Para el modelo Multinominal')\n",
                "print(classification_report(y_test, y_pred_MNB))"
            ]
        },
        {
            "cell_type": "code",
            "execution_count": 17,
            "metadata": {},
            "outputs": [
                {
                    "name": "stdout",
                    "output_type": "stream",
                    "text": [
                        "Para el modelo Gaussiano\n",
                        "              precision    recall  f1-score   support\n",
                        "\n",
                        "           0       0.85      0.88      0.86       126\n",
                        "           1       0.69      0.62      0.65        53\n",
                        "\n",
                        "    accuracy                           0.80       179\n",
                        "   macro avg       0.77      0.75      0.76       179\n",
                        "weighted avg       0.80      0.80      0.80       179\n",
                        "\n"
                    ]
                }
            ],
            "source": [
                "# Inicializar y entrenar el clasificador Naive Bayes Gaussiano\n",
                "clf_2 = GaussianNB().fit(X_train_vec, y_train)\n",
                "\n",
                "# Realizar predicciones en el conjunto de prueba\n",
                "y_pred_GNB = clf_2.predict(X_test_vec)\n",
                "\n",
                "# Evaluar el rendimiento del modelo\n",
                "print('Para el modelo Gaussiano')\n",
                "print(classification_report(y_test, y_pred_GNB))"
            ]
        },
        {
            "cell_type": "code",
            "execution_count": 18,
            "metadata": {},
            "outputs": [
                {
                    "name": "stdout",
                    "output_type": "stream",
                    "text": [
                        "Para el modelo de Bernoulli\n",
                        "              precision    recall  f1-score   support\n",
                        "\n",
                        "           0       0.79      0.93      0.85       126\n",
                        "           1       0.70      0.40      0.51        53\n",
                        "\n",
                        "    accuracy                           0.77       179\n",
                        "   macro avg       0.74      0.66      0.68       179\n",
                        "weighted avg       0.76      0.77      0.75       179\n",
                        "\n"
                    ]
                }
            ],
            "source": [
                "# Inicializar y entrenar el clasificador Naive Bayes de Bernoulli\n",
                "clf_3 = BernoulliNB().fit(X_train_vec, y_train)\n",
                "\n",
                "# Realizar predicciones en el conjunto de prueba\n",
                "y_pred_BNB = clf_3.predict(X_test_vec)\n",
                "\n",
                "# Evaluar el rendimiento del modelo\n",
                "print('Para el modelo de Bernoulli')\n",
                "print(classification_report(y_test, y_pred_BNB))"
            ]
        },
        {
            "cell_type": "markdown",
            "metadata": {},
            "source": [
                "## ANÁLISIS\n",
                "#### Como era de esperar, el modelo multinominal es el que mejor resultados ha dado. Vamos a proceder a optimizarlo."
            ]
        },
        {
            "cell_type": "code",
            "execution_count": 19,
            "metadata": {},
            "outputs": [],
            "source": [
                "# Ajustar CountVectorizer con bigramas y trigramas, y stop words personalizados\n",
                "vec_model = CountVectorizer(ngram_range=(1, 5), stop_words=\"english\") # Con la incorporación de n-gramas vamos a tener en cuenta cadenas de palabras, no sólo palabras sueltas\n",
                "\n",
                "X_train_vec = vec_model.fit_transform(X_train).toarray()\n",
                "X_test_vec = vec_model.transform(X_test).toarray()"
            ]
        },
        {
            "cell_type": "code",
            "execution_count": 20,
            "metadata": {},
            "outputs": [
                {
                    "name": "stdout",
                    "output_type": "stream",
                    "text": [
                        "Mejor valor de alpha: {'alpha': 10}\n",
                        "Mejor puntaje: 0.7640401851669456\n"
                    ]
                }
            ],
            "source": [
                "# Definir el clasificador y los parámetros para la búsqueda de cuadrícula\n",
                "clf = MultinomialNB()\n",
                "param_grid = {'alpha': [0.01, 0.1, 1, 10, 100]}\n",
                "\n",
                "# Inicializar GridSearchCV\n",
                "grid_search = GridSearchCV(clf, param_grid, cv=5)\n",
                "\n",
                "# Entrenar utilizando la búsqueda de cuadrícula\n",
                "grid_search.fit(X_train_vec, y_train)\n",
                "\n",
                "# Ver el mejor valor de alpha y rendimiento\n",
                "print(\"Mejor valor de alpha:\", grid_search.best_params_)\n",
                "print(\"Mejor puntaje:\", grid_search.best_score_)\n",
                "\n",
                "# Utilizar el mejor clasificador encontrado\n",
                "clf_optimizado = grid_search.best_estimator_"
            ]
        },
        {
            "cell_type": "code",
            "execution_count": 21,
            "metadata": {},
            "outputs": [
                {
                    "name": "stdout",
                    "output_type": "stream",
                    "text": [
                        "Para el modelo Multinominal optimizado\n",
                        "              precision    recall  f1-score   support\n",
                        "\n",
                        "           0       0.84      0.96      0.90       126\n",
                        "           1       0.86      0.57      0.68        53\n",
                        "\n",
                        "    accuracy                           0.84       179\n",
                        "   macro avg       0.85      0.76      0.79       179\n",
                        "weighted avg       0.85      0.84      0.83       179\n",
                        "\n"
                    ]
                }
            ],
            "source": [
                "# Inicializar y entrenar el clasificador Naive Bayes Multinomial\n",
                "clf = MultinomialNB().fit(X_train_vec, y_train)\n",
                "\n",
                "# Realizar predicciones en el conjunto de prueba\n",
                "y_pred_MNB = clf.predict(X_test_vec)\n",
                "\n",
                "# Evaluar el rendimiento del modelo\n",
                "print('Para el modelo Multinominal optimizado')\n",
                "print(classification_report(y_test, y_pred_MNB))"
            ]
        },
        {
            "cell_type": "markdown",
            "metadata": {},
            "source": [
                "## ANÁLISIS\n",
                "#### El modelo ha mejorado sensiblemente\n",
                "El incremento en la precisión de la clase 1 (comentarios positivos) a 0.86 y un recall de 0.57 indica que, aunque el modelo es muy preciso cuando predice comentarios positivos, todavía hay un número significativo de comentarios positivos que no está captando. El alto valor de precisión para la clase 0 (comentarios negativos) de 0.84 y un recall aún mayor de 0.96 muestra que el modelo es particularmente bueno para identificar los comentarios negativos correctamente.\n",
                "\n",
                "La mejora en el puntaje F1 para ambas clases sugiere que hemos logrado un buen equilibrio entre la precisión y el recall, aunque aún hay margen de mejora, especialmente en el recall de la clase 1. El puntaje F1 es una medida armonizada de precisión y recall, y es particularmente útil para comparar modelos en tareas de clasificación con clases desbalanceadas. "
            ]
        },
        {
            "cell_type": "code",
            "execution_count": 22,
            "metadata": {},
            "outputs": [],
            "source": [
                "# Vamos a aplicar lematización para mejorar el rendimiento. Esto hará que palabra escritas en lenguaje informal puedan ser detectadas por el modelo\n",
                "# Cargar el modelo de spacy\n",
                "nlp = spacy.load('en_core_web_sm') # Lo hemos descargado desde la consola\n",
                "\n",
                "# Función para lematizar el texto\n",
                "def lematizar_texto(texto):\n",
                "    doc = nlp(texto)\n",
                "    lemas = [token.lemma_ for token in doc if not token.is_punct]\n",
                "    return ' '.join(lemas)\n",
                "\n",
                "# Aplicar la lematización a los conjuntos de entrenamiento y prueba\n",
                "X_train_lematizado = [lematizar_texto(texto) for texto in X_train]\n",
                "X_test_lematizado = [lematizar_texto(texto) for texto in X_test]\n",
                "\n",
                "# Debemos vectorizar de nuevo los textos lematizados antes de entrenar el modelo\n",
                "vec_model = CountVectorizer(ngram_range=(1, 5), stop_words=\"english\")\n",
                "X_train_vec = vec_model.fit_transform(X_train_lematizado).toarray()\n",
                "X_test_vec = vec_model.transform(X_test_lematizado).toarray()"
            ]
        },
        {
            "cell_type": "code",
            "execution_count": 27,
            "metadata": {},
            "outputs": [
                {
                    "name": "stdout",
                    "output_type": "stream",
                    "text": [
                        "Para el modelo Multinominal optimizado tras lematizar\n",
                        "              precision    recall  f1-score   support\n",
                        "\n",
                        "           0       0.83      0.94      0.88       126\n",
                        "           1       0.81      0.55      0.65        53\n",
                        "\n",
                        "    accuracy                           0.83       179\n",
                        "   macro avg       0.82      0.75      0.77       179\n",
                        "weighted avg       0.82      0.83      0.82       179\n",
                        "\n"
                    ]
                }
            ],
            "source": [
                "# PRobamos de nuevo tras lematizar\n",
                "# Inicializar y entrenar el clasificador Naive Bayes Multinomial\n",
                "clf_lema = MultinomialNB().fit(X_train_vec, y_train)\n",
                "\n",
                "# Realizar predicciones en el conjunto de prueba\n",
                "y_pred_MNB_lema = clf_lema.predict(X_test_vec)\n",
                "\n",
                "# Evaluar el rendimiento del modelo\n",
                "print('Para el modelo Multinominal optimizado tras lematizar')\n",
                "print(classification_report(y_test, y_pred_MNB_lema))"
            ]
        },
        {
            "cell_type": "markdown",
            "metadata": {},
            "source": [
                "## ANÄLISIS\n",
                "Observamos que el rendimiento ha bajado tras lematizar, por lo cual preferimos el modelo optimizado previo"
            ]
        },
        {
            "cell_type": "code",
            "execution_count": 23,
            "metadata": {},
            "outputs": [
                {
                    "name": "stdout",
                    "output_type": "stream",
                    "text": [
                        "              precision    recall  f1-score   support\n",
                        "\n",
                        "           0       0.86      0.86      0.86       126\n",
                        "           1       0.67      0.68      0.67        53\n",
                        "\n",
                        "    accuracy                           0.80       179\n",
                        "   macro avg       0.77      0.77      0.77       179\n",
                        "weighted avg       0.81      0.80      0.80       179\n",
                        "\n"
                    ]
                }
            ],
            "source": [
                "# Convertir los conjuntos de datos a DMatrix, un formato interno de XGBoost que es más eficiente\n",
                "dtrain = xgb.DMatrix(X_train_vec, label=y_train)\n",
                "dtest = xgb.DMatrix(X_test_vec, label=y_test)\n",
                "\n",
                "# Definir los parámetros para XGBoost\n",
                "param = {'max_depth': 6, 'eta': 0.3, 'objective': 'binary:logistic'}\n",
                "num_round = 100  # Número de rondas de entrenamiento\n",
                "\n",
                "# Entrenar el modelo\n",
                "bst = xgb.train(param, dtrain, num_round)\n",
                "\n",
                "# Hacer predicciones\n",
                "y_pred_xgb = bst.predict(dtest)\n",
                "# Convertir las probabilidades a clases binarias\n",
                "y_pred_xgb = [1 if prob > 0.5 else 0 for prob in y_pred_xgb]\n",
                "\n",
                "# Evaluar el rendimiento\n",
                "print(classification_report(y_test, y_pred_xgb))"
            ]
        },
        {
            "cell_type": "markdown",
            "metadata": {},
            "source": [
                "## ANÁLISIS\n",
                "Con el XGBoost encontramos un rendimiento ligeramente inferior al uso del MultinominalNB. Inicialmente pensamos que podría ofrecer un rendimiento superior al RandomForest, debido a que funciona de manera similar pero asignando más peso a los errores para mejorar el rendimiento. \n",
                "Procedemos a probar con un RandomForest."
            ]
        },
        {
            "cell_type": "code",
            "execution_count": 24,
            "metadata": {},
            "outputs": [
                {
                    "name": "stdout",
                    "output_type": "stream",
                    "text": [
                        "              precision    recall  f1-score   support\n",
                        "\n",
                        "           0       0.86      0.83      0.84       126\n",
                        "           1       0.62      0.68      0.65        53\n",
                        "\n",
                        "    accuracy                           0.78       179\n",
                        "   macro avg       0.74      0.75      0.75       179\n",
                        "weighted avg       0.79      0.78      0.78       179\n",
                        "\n"
                    ]
                }
            ],
            "source": [
                "# Inicializar el clasificador de Random Forest\n",
                "rf_clf = RandomForestClassifier(n_estimators=100, random_state=42)\n",
                "\n",
                "# Entrenar el clasificador de Random Forest\n",
                "rf_clf.fit(X_train_vec, y_train)\n",
                "\n",
                "# Realizar predicciones en el conjunto de prueba\n",
                "y_pred_rf = rf_clf.predict(X_test_vec)\n",
                "\n",
                "# Evaluar el rendimiento del modelo\n",
                "print(classification_report(y_test, y_pred_rf))"
            ]
        },
        {
            "cell_type": "markdown",
            "metadata": {},
            "source": [
                "## ANÁLISIS\n",
                "EL Random Forest muestra un rendimiento menor a nuestro mejor MultinominalNB. No obstante, aún podemos mejorar el rendimiento del RF con una GridSearch o una RandomSearch"
            ]
        },
        {
            "cell_type": "code",
            "execution_count": 25,
            "metadata": {},
            "outputs": [
                {
                    "name": "stdout",
                    "output_type": "stream",
                    "text": [
                        "Mejores parámetros: {'max_depth': None, 'min_samples_leaf': 1, 'min_samples_split': 2, 'n_estimators': 100}\n",
                        "Mejor puntaje de cross-validation: 0.7794444991628091\n",
                        "              precision    recall  f1-score   support\n",
                        "\n",
                        "           0       0.86      0.83      0.84       126\n",
                        "           1       0.62      0.68      0.65        53\n",
                        "\n",
                        "    accuracy                           0.78       179\n",
                        "   macro avg       0.74      0.75      0.75       179\n",
                        "weighted avg       0.79      0.78      0.78       179\n",
                        "\n"
                    ]
                }
            ],
            "source": [
                "# Definir el modelo y los parámetros para la búsqueda\n",
                "rf_clf = RandomForestClassifier(random_state=42)\n",
                "param_grid = {\n",
                "    'n_estimators': [50, 100, 200],\n",
                "    'max_depth': [None, 10, 20, 30],\n",
                "    'min_samples_split': [2, 5, 10],\n",
                "    'min_samples_leaf': [1, 2, 4]\n",
                "}\n",
                "\n",
                "# Inicializar GridSearchCV\n",
                "grid_search = GridSearchCV(estimator=rf_clf, param_grid=param_grid, cv=5, n_jobs=-1, scoring='accuracy')\n",
                "\n",
                "# Entrenar utilizando la búsqueda de cuadrícula\n",
                "grid_search.fit(X_train_vec, y_train)\n",
                "\n",
                "# Mejores parámetros y puntaje\n",
                "print(\"Mejores parámetros:\", grid_search.best_params_)\n",
                "print(\"Mejor puntaje de cross-validation:\", grid_search.best_score_)\n",
                "\n",
                "# Entrenar y evaluar el modelo optimizado\n",
                "best_rf_clf = grid_search.best_estimator_\n",
                "y_pred_optimized = best_rf_clf.predict(X_test_vec)\n",
                "print(classification_report(y_test, y_pred_optimized))"
            ]
        },
        {
            "cell_type": "code",
            "execution_count": 28,
            "metadata": {},
            "outputs": [
                {
                    "name": "stdout",
                    "output_type": "stream",
                    "text": [
                        "Conteo de elementos por clase en y_train: {0: 458, 1: 254}\n"
                    ]
                }
            ],
            "source": [
                "# Conteo de clases para optimizar el parámetro class_weight\n",
                "clases, conteo_clases = np.unique(y_train, return_counts=True)\n",
                "conteo_clases_dict = dict(zip(clases, conteo_clases))\n",
                "\n",
                "print(\"Conteo de elementos por clase en y_train:\", conteo_clases_dict)"
            ]
        },
        {
            "cell_type": "code",
            "execution_count": 30,
            "metadata": {},
            "outputs": [],
            "source": [
                "# Ajustar CountVectorizer con n-gramas y stop words\n",
                "vec_model = CountVectorizer(ngram_range=(1, 5), stop_words=\"english\") # Con la incorporación de n-gramas vamos a tener en cuenta cadenas de palabras, no sólo palabras sueltas\n",
                "\n",
                "X_train_vec = vec_model.fit_transform(X_train).toarray()\n",
                "X_test_vec = vec_model.transform(X_test).toarray()"
            ]
        },
        {
            "cell_type": "code",
            "execution_count": 32,
            "metadata": {},
            "outputs": [
                {
                    "name": "stdout",
                    "output_type": "stream",
                    "text": [
                        "Para el RF sin lematizar\n",
                        "              precision    recall  f1-score   support\n",
                        "\n",
                        "           0       0.84      0.82      0.83       126\n",
                        "           1       0.59      0.62      0.61        53\n",
                        "\n",
                        "    accuracy                           0.76       179\n",
                        "   macro avg       0.71      0.72      0.72       179\n",
                        "weighted avg       0.76      0.76      0.76       179\n",
                        "\n"
                    ]
                }
            ],
            "source": [
                "# Probams de nuevo con RF pero sin lematizar\n",
                "# Inicializar el clasificador de Random Forest\n",
                "rf_clf = RandomForestClassifier(n_estimators=100, random_state=42)\n",
                "\n",
                "# Entrenar el clasificador de Random Forest\n",
                "rf_clf.fit(X_train_vec, y_train)\n",
                "\n",
                "# Realizar predicciones en el conjunto de prueba\n",
                "y_pred_rf = rf_clf.predict(X_test_vec)\n",
                "\n",
                "# Evaluar el rendimiento del modelo\n",
                "print('Para el RF sin lematizar')\n",
                "print(classification_report(y_test, y_pred_rf))"
            ]
        },
        {
            "cell_type": "markdown",
            "metadata": {},
            "source": [
                "## ANÁLISIS\n",
                "El modelo Multinomial Naive Bayes antes de la lematización tenía una precisión del 84%, la cual es superior a la de RandomForest sin lematización.\n",
                "\n",
                "La lematización, en el caso del modelo Naive Bayes, había llevado a una precisión del 83%, que todavía supera al RandomForest sin lematización.\n",
                "\n",
                "El rendimiento de RandomForest sin lematización (76% de precisión) es ligeramente inferior al de RandomForest con lematización (78% de precisión).\n",
                "\n",
                "Esto sugiere que, al menos para este conjunto de datos y tarea, el modelo Multinomial Naive Bayes supera al RandomForest, independientemente de la aplicación de la lematización."
            ]
        },
        {
            "cell_type": "code",
            "execution_count": 34,
            "metadata": {},
            "outputs": [
                {
                    "name": "stdout",
                    "output_type": "stream",
                    "text": [
                        "Para el RF con los pesos ajustados\n",
                        "              precision    recall  f1-score   support\n",
                        "\n",
                        "           0       0.86      0.74      0.79       126\n",
                        "           1       0.54      0.72      0.61        53\n",
                        "\n",
                        "    accuracy                           0.73       179\n",
                        "   macro avg       0.70      0.73      0.70       179\n",
                        "weighted avg       0.76      0.73      0.74       179\n",
                        "\n"
                    ]
                }
            ],
            "source": [
                "# Vamos a probar con un RF ajustando los pesos\n",
                "# Calcular pesos inversos de las clases\n",
                "weights = {0: 1, 1: 458 / 254}\n",
                "\n",
                "rf_clf_weighted = RandomForestClassifier(n_estimators=100, max_depth=None, min_samples_leaf=1, min_samples_split=2, class_weight=weights, random_state=42)\n",
                "rf_clf_weighted.fit(X_train_vec, y_train)\n",
                "y_pred_rf_weighted = rf_clf_weighted.predict(X_test_vec)\n",
                "\n",
                "print('Para el RF con los pesos ajustados')\n",
                "print(classification_report(y_test, y_pred_rf_weighted))"
            ]
        },
        {
            "cell_type": "markdown",
            "metadata": {},
            "source": [
                "## ANÁLISIS\n",
                "La precisión para la clase 0 (comentarios negativos) se mantuvo alta en 0.86, pero su recall disminuyó a 0.74, lo que indica que el modelo se volvió un poco menos efectivo en identificar correctamente todos los comentarios negativos.\n",
                "\n",
                "La precisión para la clase 1 aumentó a 0.54 y su recall a 0.72. Esto significa que, al ajustar los pesos, el modelo ha mejorado significativamente su capacidad para identificar comentarios positivos, aunque a costa de etiquetar incorrectamente más comentarios negativos como positivos (lo que explica la disminución de la precisión en esta clase).\n",
                "\n",
                "La precisión general (accuracy) del modelo disminuyó ligeramente a 0.73, reflejando el compromiso entre mejorar el recall de la clase minoritaria y mantener la alta precisión para la clase mayoritaria.\n",
                "\n",
                "## Conclusiones y Reflexiones\n",
                "Mejora en la Detección de la Clase Minoritaria: Ajustar el class_weight ha demostrado ser efectivo para mejorar la detección de comentarios positivos, que era el objetivo al considerar el desbalance de clases.\n",
                "\n",
                "Selección del Modelo: Aunque el ajuste de pesos ayudó a mejorar el recall para los comentarios positivos, el modelo Multinomial Naive Bayes sin lematización sigue mostrando un mejor balance general entre precisión y recall, con una precisión (accuracy) global superior."
            ]
        },
        {
            "cell_type": "code",
            "execution_count": 36,
            "metadata": {},
            "outputs": [
                {
                    "data": {
                        "text/plain": [
                            "['mejor_modelo_Multinb_42.joblib']"
                        ]
                    },
                    "execution_count": 36,
                    "metadata": {},
                    "output_type": "execute_result"
                }
            ],
            "source": [
                "dump(clf_optimizado, 'mejor_modelo_Multinb_42.joblib')"
            ]
        },
        {
            "cell_type": "markdown",
            "metadata": {},
            "source": [
                "Como el modelo con mejor rendimiento es el MultinomialNB sin lematizar, es el que hemos guardado."
            ]
        }
    ],
    "metadata": {
        "kernelspec": {
            "display_name": "Python 3.8.13 64-bit ('3.8.13')",
            "language": "python",
            "name": "python3"
        },
        "language_info": {
            "codemirror_mode": {
                "name": "ipython",
                "version": 3
            },
            "file_extension": ".py",
            "mimetype": "text/x-python",
            "name": "python",
            "nbconvert_exporter": "python",
            "pygments_lexer": "ipython3",
            "version": "3.10.12"
        },
        "orig_nbformat": 4,
        "vscode": {
            "interpreter": {
                "hash": "110cc1dee26208153f2972f08a2ad52b6a56238dc66d48e87fb757ef2996db56"
            }
        }
    },
    "nbformat": 4,
    "nbformat_minor": 2
}
