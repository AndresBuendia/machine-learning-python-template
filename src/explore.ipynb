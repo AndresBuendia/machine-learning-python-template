{
    "cells": [
        {
            "cell_type": "markdown",
            "metadata": {},
            "source": [
                "# Explore here"
            ]
        },
        {
            "cell_type": "code",
            "execution_count": 1,
            "metadata": {},
            "outputs": [
                {
                    "name": "stdout",
                    "output_type": "stream",
                    "text": [
                        "Defaulting to user installation because normal site-packages is not writeable\n",
                        "Requirement already satisfied: seaborn in /home/vscode/.local/lib/python3.10/site-packages (0.13.2)\n",
                        "Requirement already satisfied: numpy!=1.24.0,>=1.20 in /home/vscode/.local/lib/python3.10/site-packages (from seaborn) (1.26.4)\n",
                        "Requirement already satisfied: matplotlib!=3.6.1,>=3.4 in /home/vscode/.local/lib/python3.10/site-packages (from seaborn) (3.8.3)\n",
                        "Requirement already satisfied: pandas>=1.2 in /home/vscode/.local/lib/python3.10/site-packages (from seaborn) (2.2.1)\n",
                        "Requirement already satisfied: fonttools>=4.22.0 in /home/vscode/.local/lib/python3.10/site-packages (from matplotlib!=3.6.1,>=3.4->seaborn) (4.50.0)\n",
                        "Requirement already satisfied: contourpy>=1.0.1 in /home/vscode/.local/lib/python3.10/site-packages (from matplotlib!=3.6.1,>=3.4->seaborn) (1.2.0)\n",
                        "Requirement already satisfied: cycler>=0.10 in /home/vscode/.local/lib/python3.10/site-packages (from matplotlib!=3.6.1,>=3.4->seaborn) (0.12.1)\n",
                        "Requirement already satisfied: kiwisolver>=1.3.1 in /home/vscode/.local/lib/python3.10/site-packages (from matplotlib!=3.6.1,>=3.4->seaborn) (1.4.5)\n",
                        "Requirement already satisfied: python-dateutil>=2.7 in /home/vscode/.local/lib/python3.10/site-packages (from matplotlib!=3.6.1,>=3.4->seaborn) (2.9.0.post0)\n",
                        "Requirement already satisfied: packaging>=20.0 in /home/vscode/.local/lib/python3.10/site-packages (from matplotlib!=3.6.1,>=3.4->seaborn) (24.0)\n",
                        "Requirement already satisfied: pillow>=8 in /home/vscode/.local/lib/python3.10/site-packages (from matplotlib!=3.6.1,>=3.4->seaborn) (10.2.0)\n",
                        "Requirement already satisfied: pyparsing>=2.3.1 in /home/vscode/.local/lib/python3.10/site-packages (from matplotlib!=3.6.1,>=3.4->seaborn) (3.1.2)\n",
                        "Requirement already satisfied: tzdata>=2022.7 in /home/vscode/.local/lib/python3.10/site-packages (from pandas>=1.2->seaborn) (2024.1)\n",
                        "Requirement already satisfied: pytz>=2020.1 in /home/vscode/.local/lib/python3.10/site-packages (from pandas>=1.2->seaborn) (2024.1)\n",
                        "Requirement already satisfied: six>=1.5 in /home/vscode/.local/lib/python3.10/site-packages (from python-dateutil>=2.7->matplotlib!=3.6.1,>=3.4->seaborn) (1.16.0)\n",
                        "\n",
                        "\u001b[1m[\u001b[0m\u001b[34;49mnotice\u001b[0m\u001b[1;39;49m]\u001b[0m\u001b[39;49m A new release of pip is available: \u001b[0m\u001b[31;49m23.0.1\u001b[0m\u001b[39;49m -> \u001b[0m\u001b[32;49m24.0\u001b[0m\n",
                        "\u001b[1m[\u001b[0m\u001b[34;49mnotice\u001b[0m\u001b[1;39;49m]\u001b[0m\u001b[39;49m To update, run: \u001b[0m\u001b[32;49mpip install --upgrade pip\u001b[0m\n",
                        "Defaulting to user installation because normal site-packages is not writeable\n",
                        "Requirement already satisfied: scikit-learn in /home/vscode/.local/lib/python3.10/site-packages (1.4.1.post1)\n",
                        "Requirement already satisfied: joblib>=1.2.0 in /home/vscode/.local/lib/python3.10/site-packages (from scikit-learn) (1.3.2)\n",
                        "Requirement already satisfied: threadpoolctl>=2.0.0 in /home/vscode/.local/lib/python3.10/site-packages (from scikit-learn) (3.4.0)\n",
                        "Requirement already satisfied: numpy<2.0,>=1.19.5 in /home/vscode/.local/lib/python3.10/site-packages (from scikit-learn) (1.26.4)\n",
                        "Requirement already satisfied: scipy>=1.6.0 in /home/vscode/.local/lib/python3.10/site-packages (from scikit-learn) (1.12.0)\n",
                        "\n",
                        "\u001b[1m[\u001b[0m\u001b[34;49mnotice\u001b[0m\u001b[1;39;49m]\u001b[0m\u001b[39;49m A new release of pip is available: \u001b[0m\u001b[31;49m23.0.1\u001b[0m\u001b[39;49m -> \u001b[0m\u001b[32;49m24.0\u001b[0m\n",
                        "\u001b[1m[\u001b[0m\u001b[34;49mnotice\u001b[0m\u001b[1;39;49m]\u001b[0m\u001b[39;49m To update, run: \u001b[0m\u001b[32;49mpip install --upgrade pip\u001b[0m\n",
                        "Defaulting to user installation because normal site-packages is not writeable\n",
                        "Requirement already satisfied: statsmodels in /home/vscode/.local/lib/python3.10/site-packages (0.14.1)\n",
                        "Requirement already satisfied: packaging>=21.3 in /home/vscode/.local/lib/python3.10/site-packages (from statsmodels) (24.0)\n",
                        "Requirement already satisfied: scipy!=1.9.2,>=1.4 in /home/vscode/.local/lib/python3.10/site-packages (from statsmodels) (1.12.0)\n",
                        "Requirement already satisfied: patsy>=0.5.4 in /home/vscode/.local/lib/python3.10/site-packages (from statsmodels) (0.5.6)\n",
                        "Requirement already satisfied: pandas!=2.1.0,>=1.0 in /home/vscode/.local/lib/python3.10/site-packages (from statsmodels) (2.2.1)\n",
                        "Requirement already satisfied: numpy<2,>=1.18 in /home/vscode/.local/lib/python3.10/site-packages (from statsmodels) (1.26.4)\n",
                        "Requirement already satisfied: python-dateutil>=2.8.2 in /home/vscode/.local/lib/python3.10/site-packages (from pandas!=2.1.0,>=1.0->statsmodels) (2.9.0.post0)\n",
                        "Requirement already satisfied: tzdata>=2022.7 in /home/vscode/.local/lib/python3.10/site-packages (from pandas!=2.1.0,>=1.0->statsmodels) (2024.1)\n",
                        "Requirement already satisfied: pytz>=2020.1 in /home/vscode/.local/lib/python3.10/site-packages (from pandas!=2.1.0,>=1.0->statsmodels) (2024.1)\n",
                        "Requirement already satisfied: six in /home/vscode/.local/lib/python3.10/site-packages (from patsy>=0.5.4->statsmodels) (1.16.0)\n",
                        "\n",
                        "\u001b[1m[\u001b[0m\u001b[34;49mnotice\u001b[0m\u001b[1;39;49m]\u001b[0m\u001b[39;49m A new release of pip is available: \u001b[0m\u001b[31;49m23.0.1\u001b[0m\u001b[39;49m -> \u001b[0m\u001b[32;49m24.0\u001b[0m\n",
                        "\u001b[1m[\u001b[0m\u001b[34;49mnotice\u001b[0m\u001b[1;39;49m]\u001b[0m\u001b[39;49m To update, run: \u001b[0m\u001b[32;49mpip install --upgrade pip\u001b[0m\n"
                    ]
                }
            ],
            "source": [
                "!pip install seaborn\n",
                "!pip install scikit-learn\n",
                "!pip install statsmodels"
            ]
        },
        {
            "cell_type": "code",
            "execution_count": 2,
            "metadata": {},
            "outputs": [],
            "source": [
                "import pandas as pd\n",
                "import matplotlib.pyplot as plt\n",
                "import seaborn as sns\n",
                "import statsmodels.api as sm\n",
                "import numpy as np\n",
                "from sklearn.impute import KNNImputer\n",
                "from sklearn.preprocessing import MinMaxScaler\n",
                "from sklearn.tree import DecisionTreeClassifier\n",
                "from sklearn.model_selection import train_test_split, GridSearchCV\n",
                "from sklearn.metrics import classification_report, confusion_matrix, accuracy_score\n",
                "from sklearn.model_selection import cross_val_score\n",
                "from pickle import dump"
            ]
        },
        {
            "cell_type": "code",
            "execution_count": 3,
            "metadata": {},
            "outputs": [],
            "source": [
                "url = \"https://raw.githubusercontent.com/4GeeksAcademy/decision-tree-project-tutorial/main/diabetes.csv\"\n",
                "df = pd.read_csv(url)"
            ]
        },
        {
            "cell_type": "code",
            "execution_count": 4,
            "metadata": {},
            "outputs": [
                {
                    "name": "stdout",
                    "output_type": "stream",
                    "text": [
                        "     Pregnancies  Glucose  BloodPressure  SkinThickness  Insulin   BMI  \\\n",
                        "0              6      148             72             35        0  33.6   \n",
                        "1              1       85             66             29        0  26.6   \n",
                        "2              8      183             64              0        0  23.3   \n",
                        "5              5      116             74              0        0  25.6   \n",
                        "7             10      115              0              0        0  35.3   \n",
                        "..           ...      ...            ...            ...      ...   ...   \n",
                        "761            9      170             74             31        0  44.0   \n",
                        "762            9       89             62              0        0  22.5   \n",
                        "764            2      122             70             27        0  36.8   \n",
                        "766            1      126             60              0        0  30.1   \n",
                        "767            1       93             70             31        0  30.4   \n",
                        "\n",
                        "     DiabetesPedigreeFunction  Age  Outcome  \n",
                        "0                       0.627   50        1  \n",
                        "1                       0.351   31        0  \n",
                        "2                       0.672   32        1  \n",
                        "5                       0.201   30        0  \n",
                        "7                       0.134   29        0  \n",
                        "..                        ...  ...      ...  \n",
                        "761                     0.403   43        1  \n",
                        "762                     0.142   33        0  \n",
                        "764                     0.340   27        0  \n",
                        "766                     0.349   47        1  \n",
                        "767                     0.315   23        0  \n",
                        "\n",
                        "[376 rows x 9 columns]\n"
                    ]
                }
            ],
            "source": [
                "# Buscamos 0 en columnas donde no tiene sentido un valor de 0\n",
                "# Lista de columnas\n",
                "columns_to_check = ['Glucose', 'BloodPressure', 'SkinThickness', 'Insulin', 'BMI', 'DiabetesPedigreeFunction']\n",
                "\n",
                "# Crear una máscara booleana para filas donde alguna de las columnas especificadas tiene un valor 0\n",
                "mask = (df[columns_to_check] == 0).any(axis=1)\n",
                "\n",
                "# Usar la máscara para filtrar el DataFrame\n",
                "rows_with_zeros = df.loc[mask]\n",
                "\n",
                "print(rows_with_zeros)"
            ]
        },
        {
            "cell_type": "code",
            "execution_count": 5,
            "metadata": {},
            "outputs": [
                {
                    "name": "stdout",
                    "output_type": "stream",
                    "text": [
                        "     Pregnancies  Glucose  BloodPressure  SkinThickness  Insulin   BMI  \\\n",
                        "60             2     84.0            NaN            NaN      NaN   NaN   \n",
                        "81             2     74.0            NaN            NaN      NaN   NaN   \n",
                        "522            6    114.0            NaN            NaN      NaN   NaN   \n",
                        "494            3     80.0            NaN            NaN      NaN   NaN   \n",
                        "49             7    105.0            NaN            NaN      NaN   NaN   \n",
                        "706           10    115.0            NaN            NaN      NaN   NaN   \n",
                        "426            0     94.0            NaN            NaN      NaN   NaN   \n",
                        "430            2     99.0            NaN            NaN      NaN  22.2   \n",
                        "533            6     91.0            NaN            NaN      NaN  29.8   \n",
                        "269            2    146.0            NaN            NaN      NaN  27.5   \n",
                        "261            3    141.0            NaN            NaN      NaN  30.0   \n",
                        "703            2    129.0            NaN            NaN      NaN  38.5   \n",
                        "697            0     99.0            NaN            NaN      NaN  25.0   \n",
                        "266            0    138.0            NaN            NaN      NaN  36.3   \n",
                        "619            0    119.0            NaN            NaN      NaN  32.4   \n",
                        "193           11    135.0            NaN            NaN      NaN  52.3   \n",
                        "435            0    141.0            NaN            NaN      NaN  42.4   \n",
                        "643            4     90.0            NaN            NaN      NaN  28.0   \n",
                        "684            5    136.0           82.0            NaN      NaN   NaN   \n",
                        "453            2    119.0            NaN            NaN      NaN  19.6   \n",
                        "\n",
                        "     DiabetesPedigreeFunction  Age  Outcome  missing_values  \n",
                        "60                      0.304   21        0               4  \n",
                        "81                      0.102   22        0               4  \n",
                        "522                     0.189   26        0               4  \n",
                        "494                     0.174   22        0               4  \n",
                        "49                      0.305   24        0               4  \n",
                        "706                     0.261   30        1               4  \n",
                        "426                     0.256   25        0               4  \n",
                        "430                     0.108   23        0               3  \n",
                        "533                     0.501   31        0               3  \n",
                        "269                     0.240   28        1               3  \n",
                        "261                     0.761   27        1               3  \n",
                        "703                     0.304   41        0               3  \n",
                        "697                     0.253   22        0               3  \n",
                        "266                     0.933   25        1               3  \n",
                        "619                     0.141   24        1               3  \n",
                        "193                     0.578   40        1               3  \n",
                        "435                     0.205   29        1               3  \n",
                        "643                     0.610   31        0               3  \n",
                        "684                     0.640   69        0               3  \n",
                        "453                     0.832   72        0               3  \n"
                    ]
                }
            ],
            "source": [
                "# Crear una copia del dataframe con valores faltantes marcados\n",
                "df_missing = df.copy()\n",
                "columns_with_zeros = ['Glucose', 'BloodPressure', 'SkinThickness', 'Insulin', 'BMI']\n",
                "df_missing[columns_with_zeros] = df_missing[columns_with_zeros].replace(0, np.nan)\n",
                "\n",
                "# Agregar una columna para contar los valores faltantes por fila\n",
                "df_missing['missing_values'] = df_missing.isnull().sum(axis=1)\n",
                "\n",
                "# Ver las filas con valores faltantes ordenadas por 'missing_values'\n",
                "print(df_missing.sort_values(by='missing_values', ascending=False).head(20))"
            ]
        },
        {
            "cell_type": "code",
            "execution_count": 6,
            "metadata": {},
            "outputs": [
                {
                    "name": "stdout",
                    "output_type": "stream",
                    "text": [
                        "Pregnancies                 0\n",
                        "Glucose                     0\n",
                        "BloodPressure               0\n",
                        "SkinThickness               0\n",
                        "Insulin                     0\n",
                        "BMI                         0\n",
                        "DiabetesPedigreeFunction    0\n",
                        "Age                         0\n",
                        "Outcome                     0\n",
                        "dtype: int64\n"
                    ]
                }
            ],
            "source": [
                "# Escalado de características para mejorar el rendimiento de KNN\n",
                "scaler = MinMaxScaler()\n",
                "df_scaled = pd.DataFrame(scaler.fit_transform(df), columns=df.columns)\n",
                "\n",
                "# Aplicación de KNNImputer\n",
                "# Puedes ajustar el número de vecinos si es necesario\n",
                "imputer = KNNImputer(n_neighbors=5)\n",
                "df_imputed = pd.DataFrame(imputer.fit_transform(df_scaled), columns=df.columns)\n",
                "\n",
                "# Deshacer el escalado para volver al rango original de los datos\n",
                "df_imputed = pd.DataFrame(scaler.inverse_transform(df_imputed), columns=df.columns)\n",
                "\n",
                "# Verificar el resultado de la imputación\n",
                "print(df_imputed.isnull().sum())"
            ]
        },
        {
            "cell_type": "code",
            "execution_count": 7,
            "metadata": {},
            "outputs": [],
            "source": [
                "X = df_imputed.drop('Outcome', axis=1)\n",
                "y = df_imputed['Outcome']\n",
                "\n",
                "# División en conjuntos de entrenamiento y prueba\n",
                "X_train, X_test, y_train, y_test = train_test_split(X, y, test_size=0.2, random_state=42)"
            ]
        },
        {
            "cell_type": "code",
            "execution_count": 8,
            "metadata": {},
            "outputs": [],
            "source": [
                "# Escalado Min-Max en el conjunto de entrenamiento (consideramos suficiente para normalizar los datos y tratar los outliers)\n",
                "scaler = MinMaxScaler()\n",
                "X_train_scaled = scaler.fit_transform(X_train)\n",
                "\n",
                "# Aplicar el mismo escalado al conjunto de prueba\n",
                "X_test_scaled = scaler.transform(X_test)\n",
                "\n",
                "# Transformación logarítmica para las variables con sesgo significativo en el conjunto de entrenamiento\n",
                "skewed_features = ['Insulin', 'SkinThickness', 'DiabetesPedigreeFunction']\n",
                "X_train_scaled = pd.DataFrame(X_train_scaled, columns=X_train.columns)\n",
                "X_train_scaled[skewed_features] = X_train_scaled[skewed_features].apply(lambda x: np.log1p(x))\n",
                "\n",
                "# Aplicar la misma transformación al conjunto de prueba\n",
                "X_test_scaled = pd.DataFrame(X_test_scaled, columns=X_test.columns)\n",
                "X_test_scaled[skewed_features] = X_test_scaled[skewed_features].apply(lambda x: np.log1p(x))"
            ]
        },
        {
            "cell_type": "code",
            "execution_count": 9,
            "metadata": {},
            "outputs": [
                {
                    "name": "stdout",
                    "output_type": "stream",
                    "text": [
                        "\n",
                        "Árbol de decisión usando gini:\n",
                        "Reporte de clasificación:\n",
                        "              precision    recall  f1-score   support\n",
                        "\n",
                        "         0.0       0.83      0.76      0.79        99\n",
                        "         1.0       0.62      0.73      0.67        55\n",
                        "\n",
                        "    accuracy                           0.75       154\n",
                        "   macro avg       0.73      0.74      0.73       154\n",
                        "weighted avg       0.76      0.75      0.75       154\n",
                        "\n",
                        "\n",
                        "Árbol de decisión usando entropy:\n",
                        "Reporte de clasificación:\n",
                        "              precision    recall  f1-score   support\n",
                        "\n",
                        "         0.0       0.80      0.77      0.78        99\n",
                        "         1.0       0.61      0.65      0.63        55\n",
                        "\n",
                        "    accuracy                           0.73       154\n",
                        "   macro avg       0.71      0.71      0.71       154\n",
                        "weighted avg       0.73      0.73      0.73       154\n",
                        "\n"
                    ]
                }
            ],
            "source": [
                "# Vamos a estudiar el árbol de decisión usando los criterios gini y entropy\n",
                "criteria = ['gini', 'entropy']\n",
                "for criterion in criteria:\n",
                "    tree = DecisionTreeClassifier(criterion=criterion, random_state=42)\n",
                "    tree.fit(X_train_scaled, y_train)\n",
                "    y_pred = tree.predict(X_test_scaled)\n",
                "    \n",
                "    print(f\"\\nÁrbol de decisión usando {criterion}:\")\n",
                "    print(\"Reporte de clasificación:\")\n",
                "    print(classification_report(y_test, y_pred))"
            ]
        },
        {
            "cell_type": "code",
            "execution_count": 10,
            "metadata": {},
            "outputs": [
                {
                    "name": "stdout",
                    "output_type": "stream",
                    "text": [
                        "Mejores parámetros: {'criterion': 'gini', 'max_depth': 4, 'min_samples_leaf': 4, 'min_samples_split': 2}\n"
                    ]
                }
            ],
            "source": [
                "# Definimos el espacio de parámetros para GridSearchCV\n",
                "params = {\n",
                "    'criterion': ['gini', 'entropy'],\n",
                "    'max_depth': range(1, 10),\n",
                "    'min_samples_split': range(2, 10),\n",
                "    'min_samples_leaf': range(1, 5)\n",
                "}\n",
                "\n",
                "# Inicializamos el GridSearchCV con el modelo de árbol de decisión y los parámetros definidos\n",
                "grid_search = GridSearchCV(DecisionTreeClassifier(random_state=42), params, cv=5, scoring='accuracy')\n",
                "grid_search.fit(X_train_scaled, y_train)\n",
                "\n",
                "# Mejores parámetros encontrados\n",
                "print(f\"Mejores parámetros: {grid_search.best_params_}\")\n",
                "best_tree = grid_search.best_estimator_"
            ]
        },
        {
            "cell_type": "code",
            "execution_count": 11,
            "metadata": {},
            "outputs": [
                {
                    "name": "stdout",
                    "output_type": "stream",
                    "text": [
                        "Reporte de clasificación para el mejor árbol:\n",
                        "              precision    recall  f1-score   support\n",
                        "\n",
                        "         0.0       0.78      0.74      0.76        99\n",
                        "         1.0       0.57      0.64      0.60        55\n",
                        "\n",
                        "    accuracy                           0.70       154\n",
                        "   macro avg       0.68      0.69      0.68       154\n",
                        "weighted avg       0.71      0.70      0.70       154\n",
                        "\n"
                    ]
                }
            ],
            "source": [
                "# Evaluamos el mejor modelo encontrado con el conjunto de prueba\n",
                "y_pred_best = best_tree.predict(X_test_scaled)\n",
                "print(\"Reporte de clasificación para el mejor árbol:\")\n",
                "print(classification_report(y_test, y_pred_best))"
            ]
        },
        {
            "cell_type": "code",
            "execution_count": 12,
            "metadata": {},
            "outputs": [
                {
                    "data": {
                        "text/plain": [
                            "(0.7279178338001867, 0.02902179333216417)"
                        ]
                    },
                    "execution_count": 12,
                    "metadata": {},
                    "output_type": "execute_result"
                }
            ],
            "source": [
                "# Realizamos validación cruzada en el conjunto completo de datos\n",
                "# Usamos el mejor árbol encontrado por GridSearchCV\n",
                "cross_val_scores = cross_val_score(best_tree, X, y, cv=5, scoring='accuracy')\n",
                "\n",
                "# Mostramos los resultados\n",
                "cross_val_scores_mean = cross_val_scores.mean()\n",
                "cross_val_scores_std = cross_val_scores.std()\n",
                "\n",
                "cross_val_scores_mean, cross_val_scores_std"
            ]
        },
        {
            "cell_type": "code",
            "execution_count": 13,
            "metadata": {},
            "outputs": [],
            "source": [
                "dump(best_tree, open(\"decision_tree_classifier_best_42.sav\", \"wb\"))"
            ]
        },
        {
            "cell_type": "code",
            "execution_count": 14,
            "metadata": {},
            "outputs": [],
            "source": [
                "from sklearn.ensemble import RandomForestClassifier\n",
                "from sklearn.metrics import classification_report, roc_auc_score\n",
                "from sklearn.model_selection import RandomizedSearchCV"
            ]
        },
        {
            "cell_type": "code",
            "execution_count": 15,
            "metadata": {},
            "outputs": [
                {
                    "name": "stdout",
                    "output_type": "stream",
                    "text": [
                        "Accuracy del Random Forest: 0.7467532467532467\n"
                    ]
                }
            ],
            "source": [
                "# Inicializar el modelo de Random Forest\n",
                "random_forest_model = RandomForestClassifier(n_estimators=101, max_depth= 10, random_state=42)\n",
                "\n",
                "# Entrenar el modelo con el conjunto de entrenamiento\n",
                "random_forest_model.fit(X_train_scaled, y_train)\n",
                "\n",
                "# Predecir con el conjunto de prueba\n",
                "y_pred_rf = random_forest_model.predict(X_test_scaled)\n",
                "\n",
                "# Evaluar el modelo\n",
                "accuracy_rf = accuracy_score(y_test, y_pred_rf)\n",
                "print(f\"Accuracy del Random Forest: {accuracy_rf}\")"
            ]
        },
        {
            "cell_type": "code",
            "execution_count": 16,
            "metadata": {},
            "outputs": [
                {
                    "name": "stdout",
                    "output_type": "stream",
                    "text": [
                        "Mejores parámetros: {'max_depth': None, 'max_features': 'log2', 'min_samples_leaf': 4, 'min_samples_split': 10, 'n_estimators': 300}\n",
                        "Accuracy del mejor Random Forest: 0.7532467532467533\n"
                    ]
                }
            ],
            "source": [
                "# Definir el espacio de parámetros para explorar\n",
                "param_grid = {\n",
                "    'n_estimators': [100, 200, 300],\n",
                "    'max_depth': [None, 10, 20, 30],\n",
                "    'min_samples_split': [2, 5, 10],\n",
                "    'min_samples_leaf': [1, 2, 4],\n",
                "    'max_features': ['sqrt', 'log2', None]\n",
                "}\n",
                "\n",
                "# Inicializar el GridSearchCV con el modelo y el espacio de parámetros\n",
                "rf_grid_search = GridSearchCV(RandomForestClassifier(random_state=42), param_grid, cv=5, scoring='accuracy', n_jobs=-1)\n",
                "\n",
                "# Entrenar el GridSearchCV con el conjunto de entrenamiento\n",
                "rf_grid_search.fit(X_train_scaled, y_train)\n",
                "\n",
                "# Mejores hiperparámetros encontrados\n",
                "best_params = rf_grid_search.best_params_\n",
                "print(f\"Mejores parámetros: {best_params}\")\n",
                "\n",
                "# Mejor modelo encontrado\n",
                "best_rf_model = rf_grid_search.best_estimator_\n",
                "\n",
                "# Evaluar el mejor modelo encontrado\n",
                "y_pred_best_rf = best_rf_model.predict(X_test_scaled)\n",
                "best_accuracy_rf = accuracy_score(y_test, y_pred_best_rf)\n",
                "print(f\"Accuracy del mejor Random Forest: {best_accuracy_rf}\")"
            ]
        },
        {
            "cell_type": "code",
            "execution_count": 17,
            "metadata": {},
            "outputs": [
                {
                    "data": {
                        "text/plain": [
                            "('              precision    recall  f1-score   support\\n\\n         0.0       0.82      0.79      0.80        99\\n         1.0       0.64      0.69      0.67        55\\n\\n    accuracy                           0.75       154\\n   macro avg       0.73      0.74      0.74       154\\nweighted avg       0.76      0.75      0.76       154\\n',\n",
                            " 0.7393939393939394)"
                        ]
                    },
                    "execution_count": 17,
                    "metadata": {},
                    "output_type": "execute_result"
                }
            ],
            "source": [
                "# Ya que tenemos el mejor modelo encontrado por GridSearchCV y las predicciones, evaluamos más métricas\n",
                "report = classification_report(y_test, y_pred_best_rf)\n",
                "roc_auc = roc_auc_score(y_test, y_pred_best_rf)\n",
                "\n",
                "report, roc_auc"
            ]
        },
        {
            "cell_type": "code",
            "execution_count": 18,
            "metadata": {},
            "outputs": [
                {
                    "name": "stdout",
                    "output_type": "stream",
                    "text": [
                        "Mejores hiperparámetros: {'n_estimators': 100, 'min_samples_split': 10, 'min_samples_leaf': 6, 'max_features': 'sqrt', 'max_depth': 40}\n"
                    ]
                },
                {
                    "data": {
                        "text/plain": [
                            "(0.7670316611493082, 0.03836304387452925)"
                        ]
                    },
                    "execution_count": 18,
                    "metadata": {},
                    "output_type": "execute_result"
                }
            ],
            "source": [
                "# Vamos a intentar mejorar más los parámetros con un RandomizedSearchCV\n",
                "param_dist = {\n",
                "    'n_estimators': [100, 200, 300, 400, 500],\n",
                "    'max_depth': [None, 10, 20, 30, 40, 50],\n",
                "    'min_samples_split': [2, 5, 10, 15, 20],\n",
                "    'min_samples_leaf': [1, 2, 4, 6, 8],\n",
                "    'max_features': ['sqrt', 'log2']\n",
                "}\n",
                "\n",
                "# Inicializar RandomizedSearchCV con el modelo y el espacio de parámetros\n",
                "# n_iter establece el número de diferentes combinaciones para probar\n",
                "# cv es el número de cross-validation folds\n",
                "rf_random_search = RandomizedSearchCV(RandomForestClassifier(random_state=42), \n",
                "                                      param_distributions=param_dist, \n",
                "                                      n_iter=100, \n",
                "                                      cv=5, \n",
                "                                      scoring='accuracy', \n",
                "                                      n_jobs=-1, \n",
                "                                      random_state=42)\n",
                "\n",
                "# Entrenar RandomizedSearchCV con el conjunto de entrenamiento\n",
                "rf_random_search.fit(X_train_scaled, y_train)\n",
                "\n",
                "# Mejores hiperparámetros encontrados\n",
                "best_random_params = rf_random_search.best_params_\n",
                "print(f\"Mejores hiperparámetros: {best_random_params}\")\n",
                "\n",
                "# Mejor modelo encontrado\n",
                "best_random_rf_model = rf_random_search.best_estimator_\n",
                "\n",
                "# Realizar validación cruzada con el mejor modelo\n",
                "cv_scores = cross_val_score(best_random_rf_model, X, y, cv=5, scoring='accuracy')\n",
                "\n",
                "# Resultados de la validación cruzada\n",
                "cv_scores_mean = cv_scores.mean()\n",
                "cv_scores_std = cv_scores.std()\n",
                "\n",
                "cv_scores_mean, cv_scores_std"
            ]
        },
        {
            "cell_type": "code",
            "execution_count": 19,
            "metadata": {},
            "outputs": [
                {
                    "name": "stdout",
                    "output_type": "stream",
                    "text": [
                        "Accuracy en el conjunto de prueba: 0.7597402597402597\n",
                        "\n",
                        "Reporte de clasificación:\n",
                        "              precision    recall  f1-score   support\n",
                        "\n",
                        "         0.0       0.81      0.82      0.81        99\n",
                        "         1.0       0.67      0.65      0.66        55\n",
                        "\n",
                        "    accuracy                           0.76       154\n",
                        "   macro avg       0.74      0.74      0.74       154\n",
                        "weighted avg       0.76      0.76      0.76       154\n",
                        "\n",
                        "Puntuación AUC-ROC: 0.7363636363636363\n"
                    ]
                },
                {
                    "data": {
                        "image/png": "[encoded data removed]",
                        "text/plain": [
                            "<Figure size 1000x700 with 2 Axes>"
                        ]
                    },
                    "metadata": {},
                    "output_type": "display_data"
                }
            ],
            "source": [
                "# Realizar predicciones con el mejor modelo en el conjunto de prueba\n",
                "y_pred_test = best_random_rf_model.predict(X_test_scaled)\n",
                "\n",
                "# Calcular la exactitud\n",
                "accuracy = accuracy_score(y_test, y_pred_test)\n",
                "\n",
                "# Generar un reporte de clasificación\n",
                "class_report = classification_report(y_test, y_pred_test)\n",
                "\n",
                "# Calcular la puntuación AUC-ROC\n",
                "roc_auc = roc_auc_score(y_test, y_pred_test)\n",
                "\n",
                "# Generar la matriz de confusión\n",
                "conf_matrix = confusion_matrix(y_test, y_pred_test)\n",
                "\n",
                "# Imprimir las métricas\n",
                "print(f\"Accuracy en el conjunto de prueba: {accuracy}\")\n",
                "print(\"\\nReporte de clasificación:\")\n",
                "print(class_report)\n",
                "print(f\"Puntuación AUC-ROC: {roc_auc}\")\n",
                "\n",
                "# Visualizar la matriz de confusión con Seaborn\n",
                "plt.figure(figsize=(10, 7))\n",
                "sns.heatmap(conf_matrix, annot=True, fmt=\"d\", cmap='Blues')\n",
                "plt.title('Matriz de Confusión')\n",
                "plt.xlabel('Predichos')\n",
                "plt.ylabel('Verdaderos')\n",
                "plt.show()"
            ]
        },
        {
            "cell_type": "code",
            "execution_count": 20,
            "metadata": {},
            "outputs": [],
            "source": [
                "# Hemos encontrado que el modelo con ajuste de hiperparámetros por RandomSearchCV es ligeramente mejor que el de GridSearch\n",
                "# No obstante, vamos a guardar sendos modelos, sabiendo que el segundo es algo superior\n",
                "dump(best_rf_model, open(\"random_forest_classifier_best_grid_42.sav\", \"wb\"))\n",
                "dump(best_random_rf_model, open(\"random_forest_classifier_best_randsrch_42.sav\", \"wb\"))"
            ]
        },
        {
            "cell_type": "markdown",
            "metadata": {},
            "source": [
                "## Comenzamos el proyecto desde el final del proyecto anterior (se han omitido algunas representaciones y métricas)"
            ]
        },
        {
            "cell_type": "code",
            "execution_count": 21,
            "metadata": {},
            "outputs": [
                {
                    "name": "stdout",
                    "output_type": "stream",
                    "text": [
                        "Defaulting to user installation because normal site-packages is not writeable\n",
                        "Requirement already satisfied: xgboost in /home/vscode/.local/lib/python3.10/site-packages (2.0.3)\n",
                        "Requirement already satisfied: scipy in /home/vscode/.local/lib/python3.10/site-packages (from xgboost) (1.12.0)\n",
                        "Requirement already satisfied: numpy in /home/vscode/.local/lib/python3.10/site-packages (from xgboost) (1.26.4)\n",
                        "\n",
                        "\u001b[1m[\u001b[0m\u001b[34;49mnotice\u001b[0m\u001b[1;39;49m]\u001b[0m\u001b[39;49m A new release of pip is available: \u001b[0m\u001b[31;49m23.0.1\u001b[0m\u001b[39;49m -> \u001b[0m\u001b[32;49m24.0\u001b[0m\n",
                        "\u001b[1m[\u001b[0m\u001b[34;49mnotice\u001b[0m\u001b[1;39;49m]\u001b[0m\u001b[39;49m To update, run: \u001b[0m\u001b[32;49mpip install --upgrade pip\u001b[0m\n"
                    ]
                }
            ],
            "source": [
                "!pip install xgboost"
            ]
        },
        {
            "cell_type": "code",
            "execution_count": 22,
            "metadata": {},
            "outputs": [],
            "source": [
                "import xgboost as xgb"
            ]
        },
        {
            "cell_type": "code",
            "execution_count": 23,
            "metadata": {},
            "outputs": [
                {
                    "name": "stdout",
                    "output_type": "stream",
                    "text": [
                        "Accuracy del modelo XGBoost: 0.7532467532467533\n",
                        "              precision    recall  f1-score   support\n",
                        "\n",
                        "         0.0       0.81      0.80      0.81        99\n",
                        "         1.0       0.65      0.67      0.66        55\n",
                        "\n",
                        "    accuracy                           0.75       154\n",
                        "   macro avg       0.73      0.74      0.73       154\n",
                        "weighted avg       0.76      0.75      0.75       154\n",
                        "\n"
                    ]
                },
                {
                    "data": {
                        "image/png": "[encoded data removed]",
                        "text/plain": [
                            "<Figure size 640x480 with 2 Axes>"
                        ]
                    },
                    "metadata": {},
                    "output_type": "display_data"
                }
            ],
            "source": [
                "# Inicializar el clasificador XGBoost con parámetros iniciales\n",
                "xgb_clf = xgb.XGBClassifier(objective='binary:logistic', \n",
                "                            seed=42)\n",
                "\n",
                "# Definir un espacio de búsqueda de hiperparámetros para la optimización\n",
                "param_dist = {\n",
                "    'n_estimators': [50, 100, 250, 500],\n",
                "    'learning_rate': [0.01, 0.1, 0.3],\n",
                "    'max_depth': [3, 5, 7, 9],\n",
                "    'min_child_weight': [1, 3, 5],\n",
                "    'gamma': [0, 0.1, 0.2],\n",
                "    'subsample': [0.8, 0.9, 1.0],\n",
                "    'colsample_bytree': [0.8, 0.9, 1.0],\n",
                "}\n",
                "\n",
                "# Inicializar RandomizedSearchCV con el clasificador y el espacio de parámetros\n",
                "xgb_random = RandomizedSearchCV(xgb_clf, \n",
                "                                param_distributions=param_dist, \n",
                "                                n_iter=100, \n",
                "                                scoring='accuracy', \n",
                "                                n_jobs=-1, \n",
                "                                cv=5, \n",
                "                                random_state=42)\n",
                "\n",
                "# Ajustar RandomizedSearchCV en el conjunto de entrenamiento\n",
                "xgb_random.fit(X_train, y_train)\n",
                "\n",
                "# Obtener el mejor estimador\n",
                "best_xgb_clf = xgb_random.best_estimator_\n",
                "\n",
                "# Realizar predicciones con el mejor modelo sobre el conjunto de prueba\n",
                "y_pred = best_xgb_clf.predict(X_test)\n",
                "\n",
                "# Evaluar la exactitud\n",
                "accuracy = accuracy_score(y_test, y_pred)\n",
                "print(f\"Accuracy del modelo XGBoost: {accuracy}\")\n",
                "\n",
                "# Generar y mostrar el reporte de clasificación\n",
                "report = classification_report(y_test, y_pred)\n",
                "print(report)\n",
                "\n",
                "# Mostrar la matriz de confusión\n",
                "conf_matrix = confusion_matrix(y_test, y_pred)\n",
                "sns.heatmap(conf_matrix, annot=True, fmt='d', cmap=plt.cm.Blues)\n",
                "plt.xlabel('Predicciones')\n",
                "plt.ylabel('Verdaderos')\n",
                "plt.show()"
            ]
        },
        {
            "cell_type": "code",
            "execution_count": 27,
            "metadata": {},
            "outputs": [
                {
                    "name": "stdout",
                    "output_type": "stream",
                    "text": [
                        "Accuracy del modelo XGBoost: 0.7532467532467533\n",
                        "              precision    recall  f1-score   support\n",
                        "\n",
                        "         0.0       0.81      0.80      0.81        99\n",
                        "         1.0       0.65      0.67      0.66        55\n",
                        "\n",
                        "    accuracy                           0.75       154\n",
                        "   macro avg       0.73      0.74      0.73       154\n",
                        "weighted avg       0.76      0.75      0.75       154\n",
                        "\n"
                    ]
                },
                {
                    "data": {
                        "image/png": "[encoded data removed]",
                        "text/plain": [
                            "<Figure size 640x480 with 2 Axes>"
                        ]
                    },
                    "metadata": {},
                    "output_type": "display_data"
                }
            ],
            "source": [
                "# Mismo proceso pero trabajando con los datos escalados (para comprobar la influencia o no del escalado de datos)\n",
                "# Inicializar el clasificador XGBoost con parámetros iniciales\n",
                "xgb_clf = xgb.XGBClassifier(objective='binary:logistic', \n",
                "                            seed=42)\n",
                "\n",
                "# Definir un espacio de búsqueda de hiperparámetros para la optimización\n",
                "param_dist = {\n",
                "    'n_estimators': [50, 100, 250, 500],\n",
                "    'learning_rate': [0.01, 0.1, 0.3],\n",
                "    'max_depth': [3, 5, 7, 9],\n",
                "    'min_child_weight': [1, 3, 5],\n",
                "    'gamma': [0, 0.1, 0.2],\n",
                "    'subsample': [0.8, 0.9, 1.0],\n",
                "    'colsample_bytree': [0.8, 0.9, 1.0],\n",
                "}\n",
                "\n",
                "# Inicializar RandomizedSearchCV con el clasificador y el espacio de parámetros\n",
                "xgb_random = RandomizedSearchCV(xgb_clf, \n",
                "                                param_distributions=param_dist, \n",
                "                                n_iter=100, \n",
                "                                scoring='accuracy', \n",
                "                                n_jobs=-1, \n",
                "                                cv=5, \n",
                "                                random_state=42)\n",
                "\n",
                "# Ajustar RandomizedSearchCV en el conjunto de entrenamiento\n",
                "xgb_random.fit(X_train_scaled, y_train)\n",
                "\n",
                "# Obtener el mejor estimador\n",
                "best_xgb_clf = xgb_random.best_estimator_\n",
                "\n",
                "# Realizar predicciones con el mejor modelo sobre el conjunto de prueba\n",
                "y_pred1 = best_xgb_clf.predict(X_test_scaled)\n",
                "\n",
                "# Evaluar la exactitud\n",
                "accuracy = accuracy_score(y_test, y_pred1)\n",
                "print(f\"Accuracy del modelo XGBoost: {accuracy}\")\n",
                "\n",
                "# Generar y mostrar el reporte de clasificación\n",
                "report = classification_report(y_test, y_pred1)\n",
                "print(report)\n",
                "\n",
                "# Mostrar la matriz de confusión\n",
                "conf_matrix = confusion_matrix(y_test, y_pred1)\n",
                "sns.heatmap(conf_matrix, annot=True, fmt='d', cmap=plt.cm.Blues)\n",
                "plt.xlabel('Predicciones')\n",
                "plt.ylabel('Verdaderos')\n",
                "plt.show()"
            ]
        },
        {
            "cell_type": "markdown",
            "metadata": {},
            "source": [
                "Hemos obtenido idénticos resultados, con escalado y sin escalado."
            ]
        },
        {
            "cell_type": "markdown",
            "metadata": {},
            "source": [
                "## ANÁLISIS\n",
                "Los resultados con XGBoost muestran una exactitud similar al modelo optimizado con RandomizedSearchCV para el Random Forest:\n",
                "\n",
                "Exactitud (Accuracy) de XGBoost: 75.32%\n",
                "Exactitud (Accuracy) del Random Forest optimizado con RandomizedSearchCV: 75.97%\n",
                "\n",
                "Ambos modelos tienen rendimientos bastante cercanos, aunque el Random Forest tiene una ligera ventaja en términos de exactitud. Sin embargo, la diferencia es mínima y podría no ser significativa dependiendo de la variabilidad del conjunto de datos y la importancia de las otras métricas como precisión y sensibilidad.\n",
                "\n",
                "Las otras métricas (precisión, recall, f1-score) son también muy similares entre los dos modelos, con ligeras variaciones. Por ejemplo, en el modelo de XGBoost, el recall para la clase 1 (diabetes) es ligeramente superior al del Random Forest, lo que indica que podría ser un poco más eficaz en la identificación de casos positivos."
            ]
        },
        {
            "cell_type": "markdown",
            "metadata": {},
            "source": [
                "## Vamos a intentar mejorar los resultados aplicando GridSearchCV"
            ]
        },
        {
            "cell_type": "code",
            "execution_count": 30,
            "metadata": {},
            "outputs": [
                {
                    "name": "stdout",
                    "output_type": "stream",
                    "text": [
                        "Fitting 5 folds for each of 432 candidates, totalling 2160 fits\n",
                        "Mejores hiperparámetros: {'colsample_bytree': 1.0, 'gamma': 0.1, 'learning_rate': 0.05, 'max_depth': 3, 'min_child_weight': 1, 'n_estimators': 100, 'subsample': 1.0}\n",
                        "Accuracy: 0.7532467532467533\n"
                    ]
                }
            ],
            "source": [
                "# Configuración de hiperparámetros para GridSearchCV\n",
                "param_grid = {\n",
                "    'n_estimators': [100, 200, 300],\n",
                "    'learning_rate': [0.01, 0.05, 0.1],\n",
                "    'max_depth': [3, 4, 5],\n",
                "    'min_child_weight': [1, 3],\n",
                "    'gamma': [0, 0.1],\n",
                "    'subsample': [0.8, 1.0],\n",
                "    'colsample_bytree': [0.8, 1.0],\n",
                "}\n",
                "\n",
                "# Inicializar el clasificador XGBoost\n",
                "xgb_clf = xgb.XGBClassifier(objective='binary:logistic', random_state=42)\n",
                "\n",
                "# Inicializar GridSearchCV\n",
                "grid_search = GridSearchCV(estimator=xgb_clf, param_grid=param_grid, \n",
                "                           scoring='accuracy', cv=5, n_jobs=-1, verbose=1)\n",
                "\n",
                "# Ajustar GridSearchCV con los datos de entrenamiento\n",
                "grid_search.fit(X_train_scaled, y_train)\n",
                "\n",
                "# Mejores hiperparámetros encontrados\n",
                "best_params = grid_search.best_params_\n",
                "print(f\"Mejores hiperparámetros: {best_params}\")\n",
                "\n",
                "# Mejor modelo\n",
                "best_model_xgb_grid = grid_search.best_estimator_\n",
                "\n",
                "# Realizar predicciones y evaluar el modelo\n",
                "y_pred2 = best_model_xgb_grid.predict(X_test_scaled)\n",
                "accuracy = accuracy_score(y_test, y_pred2)\n",
                "print(f\"Accuracy: {accuracy}\")"
            ]
        },
        {
            "cell_type": "code",
            "execution_count": 31,
            "metadata": {},
            "outputs": [
                {
                    "name": "stdout",
                    "output_type": "stream",
                    "text": [
                        "              precision    recall  f1-score   support\n",
                        "\n",
                        "         0.0       0.81      0.81      0.81        99\n",
                        "         1.0       0.65      0.65      0.65        55\n",
                        "\n",
                        "    accuracy                           0.75       154\n",
                        "   macro avg       0.73      0.73      0.73       154\n",
                        "weighted avg       0.75      0.75      0.75       154\n",
                        "\n"
                    ]
                },
                {
                    "data": {
                        "image/png": "[encoded data removed]",
                        "text/plain": [
                            "<Figure size 640x480 with 2 Axes>"
                        ]
                    },
                    "metadata": {},
                    "output_type": "display_data"
                }
            ],
            "source": [
                "# Generar y mostrar el reporte de clasificación\n",
                "report = classification_report(y_test, y_pred2)\n",
                "print(report)\n",
                "\n",
                "# Mostrar la matriz de confusión\n",
                "conf_matrix = confusion_matrix(y_test, y_pred2)\n",
                "sns.heatmap(conf_matrix, annot=True, fmt='d', cmap=plt.cm.Blues)\n",
                "plt.xlabel('Predicciones')\n",
                "plt.ylabel('Verdaderos')\n",
                "plt.show()"
            ]
        },
        {
            "cell_type": "markdown",
            "metadata": {},
            "source": [
                "## ANÁLISIS\n",
                "### Robustez del XGBoost: \n",
                "El hecho de que el modelo XGBoost ofrezca resultados consistentes tanto en datos sin escalar como en datos escalados sugiere que es robusto a estas transformaciones. Esto es típico en modelos basados en árboles, como el XGBoost, ya que el escalado de las características no afecta la construcción del modelo de árboles de decisión.\n",
                "\n",
                "### Estabilidad del modelo: \n",
                "El que los resultados sean consistentes después de realizar la búsqueda aleatoria y la búsqueda en cuadrícula (GridSearch) indica que hemos encontrado un modelo estable para el conjunto de datos. Los hiperparámetros óptimos están proporcionando resultados comparables, lo que significa que pequeñas variaciones en estos no están teniendo un impacto significativo en el rendimiento del modelo."
            ]
        },
        {
            "cell_type": "markdown",
            "metadata": {},
            "source": [
                "## CONCLUSIÓN\n",
                "Los modelos XGBoost entrenados son estables y robustos en este conjunto de datos.\n",
                "\n",
                "La elección de si escalar o no los datos antes del entrenamiento del modelo no parece afectar al rendimiento de forma significativa."
            ]
        },
        {
            "cell_type": "code",
            "execution_count": 32,
            "metadata": {},
            "outputs": [],
            "source": [
                "dump(best_model_xgb_grid, open(\"xgboost_best_grid_42.sav\", \"wb\"))"
            ]
        },
        {
            "cell_type": "markdown",
            "metadata": {},
            "source": [
                "Hemos decidido guardar el último modelo, con GridSearch y con los datos escalados. De esta manera, podremos probar el futuro con otros algoritmos que requieran escalado. Y ya sabemos que el escalado no ha afectado en nada al rendimiento del XGBoost."
            ]
        }
    ],
    "metadata": {
        "kernelspec": {
            "display_name": "Python 3.8.13 64-bit ('3.8.13')",
            "language": "python",
            "name": "python3"
        },
        "language_info": {
            "codemirror_mode": {
                "name": "ipython",
                "version": 3
            },
            "file_extension": ".py",
            "mimetype": "text/x-python",
            "name": "python",
            "nbconvert_exporter": "python",
            "pygments_lexer": "ipython3",
            "version": "3.10.12"
        },
        "orig_nbformat": 4,
        "vscode": {
            "interpreter": {
                "hash": "110cc1dee26208153f2972f08a2ad52b6a56238dc66d48e87fb757ef2996db56"
            }
        }
    },
    "nbformat": 4,
    "nbformat_minor": 2
}
