{
    "cells": [
        {
            "cell_type": "markdown",
            "metadata": {},
            "source": [
                "### Introducción\n",
                "El presente proyecto se centra en el desarrollo de un sistema de recomendación de películas basado en contenido. A través del análisis de datos de películas obtenidos de la API de TMDB, este sistema busca predecir películas similares basándose en las preferencias del usuario, ofreciendo recomendaciones personalizadas que mejoran la experiencia de exploración de contenidos cinematográficos.\n",
                "\n",
                "El proceso se inicia con la carga y preparación de dos conjuntos de datos esenciales: detalles de películas y créditos de películas, almacenados respectivamente en tmdb_5000_movies.csv y tmdb_5000_credits.csv. Posteriormente, se realiza la integración de estos conjuntos en una única estructura de datos, enfocándose en características relevantes como el título, géneros, palabras clave, elenco y equipo de producción. Esta fusión permite una comprensión más amplia de cada película, fundamentando las bases para un análisis más profundo.\n",
                "\n",
                "La transformación de los datos juega un papel crucial en el proyecto. Se procesan las columnas con formato JSON para extraer información significativa, como los nombres de los géneros, palabras clave, los tres principales actores y el director, limpiando y consolidando estos datos en una columna de etiquetas (tags) que resumen los aspectos más destacados de cada película. Además, se implementa una estrategia de preprocesamiento de texto para eliminar las distancias entre las palabras, optimizando así la precisión del modelo.\n",
                "\n",
                "La columna de etiquetas se vectoriza utilizando el método TF-IDF, convirtiendo el texto en una matriz numérica que refleja la importancia de las palabras dentro del conjunto de datos. Esta vectorización es fundamental para el cálculo de similitudes entre películas, utilizando la similitud del coseno para identificar las películas más parecidas a una dada, basándose en sus características.\n",
                "\n",
                "El modelo de recomendación se construye sobre el algoritmo k-nearest neighbors (KNN), aprovechando la matriz de similitud del coseno para sugerir las cinco películas más similares a cualquier película seleccionada. Este enfoque permite una recomendación precisa y personalizada, mejorando significativamente la experiencia del usuario en la exploración de nuevos contenidos cinematográficos."
            ]
        },
        {
            "cell_type": "code",
            "execution_count": 1,
            "metadata": {},
            "outputs": [],
            "source": [
                "import pandas as pd\n",
                "import matplotlib.pyplot as plt\n",
                "import seaborn as sns\n",
                "import statsmodels.api as sm\n",
                "import numpy as np\n",
                "import os\n",
                "import joblib\n",
                "import sqlite3\n",
                "import json\n",
                "from sklearn.feature_extraction.text import TfidfVectorizer\n",
                "from sklearn.metrics.pairwise import cosine_similarity\n",
                "from scipy.sparse import load_npz, save_npz\n",
                "from joblib import dump"
            ]
        },
        {
            "cell_type": "code",
            "execution_count": 2,
            "metadata": {},
            "outputs": [],
            "source": [
                "url_1 = \"https://raw.githubusercontent.com/4GeeksAcademy/k-nearest-neighbors-project-tutorial/main/tmdb_5000_movies.csv\"\n",
                "df_1 = pd.read_csv(url_1)\n",
                "\n",
                "url_2 = \"https://raw.githubusercontent.com/4GeeksAcademy/k-nearest-neighbors-project-tutorial/main/tmdb_5000_credits.csv\"\n",
                "df_2 = pd.read_csv(url_2)\n"
            ]
        },
        {
            "cell_type": "code",
            "execution_count": 3,
            "metadata": {},
            "outputs": [
                {
                    "name": "stdout",
                    "output_type": "stream",
                    "text": [
                        "Columnas en df_1 (movies): ['budget', 'genres', 'homepage', 'id', 'keywords', 'original_language', 'original_title', 'overview', 'popularity', 'production_companies', 'production_countries', 'release_date', 'revenue', 'runtime', 'spoken_languages', 'status', 'tagline', 'title', 'vote_average', 'vote_count']\n",
                        "Columnas en df_2 (credits): ['movie_id', 'title', 'cast', 'crew']\n"
                    ]
                }
            ],
            "source": [
                "# Imprimir los nombres de las columnas de cada DataFrame\n",
                "print(\"Columnas en df_1 (movies):\", df_1.columns.tolist())\n",
                "print(\"Columnas en df_2 (credits):\", df_2.columns.tolist())"
            ]
        },
        {
            "cell_type": "code",
            "execution_count": 4,
            "metadata": {},
            "outputs": [
                {
                    "name": "stdout",
                    "output_type": "stream",
                    "text": [
                        "   movie_id                                     title  \\\n",
                        "0     19995                                    Avatar   \n",
                        "1       285  Pirates of the Caribbean: At World's End   \n",
                        "2    206647                                   Spectre   \n",
                        "3     49026                     The Dark Knight Rises   \n",
                        "4     49529                               John Carter   \n",
                        "\n",
                        "                                            overview  \\\n",
                        "0  In the 22nd century, a paraplegic Marine is di...   \n",
                        "1  Captain Barbossa, long believed to be dead, ha...   \n",
                        "2  A cryptic message from Bond’s past sends him o...   \n",
                        "3  Following the death of District Attorney Harve...   \n",
                        "4  John Carter is a war-weary, former military ca...   \n",
                        "\n",
                        "                                              genres  \\\n",
                        "0  [{\"id\": 28, \"name\": \"Action\"}, {\"id\": 12, \"nam...   \n",
                        "1  [{\"id\": 12, \"name\": \"Adventure\"}, {\"id\": 14, \"...   \n",
                        "2  [{\"id\": 28, \"name\": \"Action\"}, {\"id\": 12, \"nam...   \n",
                        "3  [{\"id\": 28, \"name\": \"Action\"}, {\"id\": 80, \"nam...   \n",
                        "4  [{\"id\": 28, \"name\": \"Action\"}, {\"id\": 12, \"nam...   \n",
                        "\n",
                        "                                            keywords  \\\n",
                        "0  [{\"id\": 1463, \"name\": \"culture clash\"}, {\"id\":...   \n",
                        "1  [{\"id\": 270, \"name\": \"ocean\"}, {\"id\": 726, \"na...   \n",
                        "2  [{\"id\": 470, \"name\": \"spy\"}, {\"id\": 818, \"name...   \n",
                        "3  [{\"id\": 849, \"name\": \"dc comics\"}, {\"id\": 853,...   \n",
                        "4  [{\"id\": 818, \"name\": \"based on novel\"}, {\"id\":...   \n",
                        "\n",
                        "                                                cast  \\\n",
                        "0  [{\"cast_id\": 242, \"character\": \"Jake Sully\", \"...   \n",
                        "1  [{\"cast_id\": 4, \"character\": \"Captain Jack Spa...   \n",
                        "2  [{\"cast_id\": 1, \"character\": \"James Bond\", \"cr...   \n",
                        "3  [{\"cast_id\": 2, \"character\": \"Bruce Wayne / Ba...   \n",
                        "4  [{\"cast_id\": 5, \"character\": \"John Carter\", \"c...   \n",
                        "\n",
                        "                                                crew  \n",
                        "0  [{\"credit_id\": \"52fe48009251416c750aca23\", \"de...  \n",
                        "1  [{\"credit_id\": \"52fe4232c3a36847f800b579\", \"de...  \n",
                        "2  [{\"credit_id\": \"54805967c3a36829b5002c41\", \"de...  \n",
                        "3  [{\"credit_id\": \"52fe4781c3a36847f81398c3\", \"de...  \n",
                        "4  [{\"credit_id\": \"52fe479ac3a36847f813eaa3\", \"de...  \n"
                    ]
                }
            ],
            "source": [
                "# Establecer la ruta al archivo de base de datos\n",
                "database_path = '../data/raw/my_database.db'\n",
                "\n",
                "# Conectar a la base de datos SQLite, creando el archivo en la ubicación especificada\n",
                "conn = sqlite3.connect(database_path)\n",
                "\n",
                "# Guardar df_1 y df_2 en la base de datos como tablas separadas\n",
                "df_1.to_sql('movies', conn, index=False, if_exists='replace')\n",
                "df_2.to_sql('credits', conn, index=False, if_exists='replace')\n",
                "\n",
                "# Realizar la unión SQL para crear una tercera tabla con la información unificada\n",
                "query = \"\"\"\n",
                "SELECT m.id AS movie_id, m.title, m.overview, m.genres, m.keywords, c.cast, c.crew\n",
                "FROM movies m\n",
                "JOIN credits c ON m.title = c.title\n",
                "\"\"\"\n",
                "\n",
                "# Ejecutar la consulta y cargar el resultado en un nuevo DataFrame\n",
                "df = pd.read_sql(query, conn)\n",
                "\n",
                "# Mostrar las primeras filas para verificar\n",
                "print(df.head())\n",
                "\n",
                "# Cerrar la conexión\n",
                "conn.close()"
            ]
        },
        {
            "cell_type": "code",
            "execution_count": 5,
            "metadata": {},
            "outputs": [
                {
                    "name": "stdout",
                    "output_type": "stream",
                    "text": [
                        "Genres sample:\n",
                        "0    [{\"id\": 28, \"name\": \"Action\"}, {\"id\": 12, \"nam...\n",
                        "1    [{\"id\": 12, \"name\": \"Adventure\"}, {\"id\": 14, \"...\n",
                        "2    [{\"id\": 28, \"name\": \"Action\"}, {\"id\": 12, \"nam...\n",
                        "3    [{\"id\": 28, \"name\": \"Action\"}, {\"id\": 80, \"nam...\n",
                        "4    [{\"id\": 28, \"name\": \"Action\"}, {\"id\": 12, \"nam...\n",
                        "Name: genres, dtype: object\n",
                        "\n",
                        "Keywords sample:\n",
                        "0    [{\"id\": 1463, \"name\": \"culture clash\"}, {\"id\":...\n",
                        "1    [{\"id\": 270, \"name\": \"ocean\"}, {\"id\": 726, \"na...\n",
                        "2    [{\"id\": 470, \"name\": \"spy\"}, {\"id\": 818, \"name...\n",
                        "3    [{\"id\": 849, \"name\": \"dc comics\"}, {\"id\": 853,...\n",
                        "4    [{\"id\": 818, \"name\": \"based on novel\"}, {\"id\":...\n",
                        "Name: keywords, dtype: object\n",
                        "\n",
                        "Cast sample:\n",
                        "0    [{\"cast_id\": 242, \"character\": \"Jake Sully\", \"...\n",
                        "1    [{\"cast_id\": 4, \"character\": \"Captain Jack Spa...\n",
                        "2    [{\"cast_id\": 1, \"character\": \"James Bond\", \"cr...\n",
                        "3    [{\"cast_id\": 2, \"character\": \"Bruce Wayne / Ba...\n",
                        "4    [{\"cast_id\": 5, \"character\": \"John Carter\", \"c...\n",
                        "Name: cast, dtype: object\n",
                        "\n",
                        "Crew sample:\n",
                        "0    [{\"credit_id\": \"52fe48009251416c750aca23\", \"de...\n",
                        "1    [{\"credit_id\": \"52fe4232c3a36847f800b579\", \"de...\n",
                        "2    [{\"credit_id\": \"54805967c3a36829b5002c41\", \"de...\n",
                        "3    [{\"credit_id\": \"52fe4781c3a36847f81398c3\", \"de...\n",
                        "4    [{\"credit_id\": \"52fe479ac3a36847f813eaa3\", \"de...\n",
                        "Name: crew, dtype: object\n"
                    ]
                }
            ],
            "source": [
                "# Imprimir las primeras entradas de las columnas de JSON para inspeccionarlas\n",
                "print(\"Genres sample:\")\n",
                "print(df['genres'].head())\n",
                "\n",
                "print(\"\\nKeywords sample:\")\n",
                "print(df['keywords'].head())\n",
                "\n",
                "print(\"\\nCast sample:\")\n",
                "print(df['cast'].head())\n",
                "\n",
                "print(\"\\nCrew sample:\")\n",
                "print(df['crew'].head())\n"
            ]
        },
        {
            "cell_type": "code",
            "execution_count": 6,
            "metadata": {},
            "outputs": [],
            "source": [
                "# Función para extraer los nombres de los keywords\n",
                "def extract_keyword_names(keywords_json):\n",
                "    try:\n",
                "        keywords = json.loads(keywords_json)\n",
                "        return [keyword['name'] for keyword in keywords]\n",
                "    except json.JSONDecodeError:\n",
                "        return []\n",
                "\n",
                "# Función para extraer los nombres de los tres primeros actores del cast\n",
                "def extract_cast_names(cast_json):\n",
                "    try:\n",
                "        cast = json.loads(cast_json)\n",
                "        return [member['name'] for member in cast[:3]]\n",
                "    except json.JSONDecodeError:\n",
                "        return []\n",
                "\n",
                "# Función para encontrar el nombre del director en el crew\n",
                "def find_director(crew_json):\n",
                "    try:\n",
                "        crew = json.loads(crew_json)\n",
                "        directors = [member['name'] for member in crew if member['job'] == 'Director']\n",
                "        return directors[0] if directors else None\n",
                "    except json.JSONDecodeError:\n",
                "        return None"
            ]
        },
        {
            "cell_type": "code",
            "execution_count": 7,
            "metadata": {},
            "outputs": [
                {
                    "name": "stdout",
                    "output_type": "stream",
                    "text": [
                        "Keywords processed sample:\n",
                        "0    [culture clash, future, space war, space colon...\n",
                        "1    [ocean, drug abuse, exotic island, east india ...\n",
                        "2    [spy, based on novel, secret agent, sequel, mi...\n",
                        "3    [dc comics, crime fighter, terrorist, secret i...\n",
                        "4    [based on novel, mars, medallion, space travel...\n",
                        "Name: keywords, dtype: object\n",
                        "\n",
                        "Cast processed sample:\n",
                        "0    [Sam Worthington, Zoe Saldana, Sigourney Weaver]\n",
                        "1       [Johnny Depp, Orlando Bloom, Keira Knightley]\n",
                        "2        [Daniel Craig, Christoph Waltz, Léa Seydoux]\n",
                        "3        [Christian Bale, Michael Caine, Gary Oldman]\n",
                        "4      [Taylor Kitsch, Lynn Collins, Samantha Morton]\n",
                        "Name: cast, dtype: object\n",
                        "\n",
                        "Crew processed sample:\n",
                        "0        James Cameron\n",
                        "1       Gore Verbinski\n",
                        "2           Sam Mendes\n",
                        "3    Christopher Nolan\n",
                        "4       Andrew Stanton\n",
                        "Name: crew, dtype: object\n"
                    ]
                }
            ],
            "source": [
                "# Prueba de las funciones con las primeras filas de las columnas\n",
                "print(\"Keywords processed sample:\")\n",
                "print(df['keywords'].head().apply(extract_keyword_names))\n",
                "\n",
                "print(\"\\nCast processed sample:\")\n",
                "print(df['cast'].head().apply(extract_cast_names))\n",
                "\n",
                "print(\"\\nCrew processed sample:\")\n",
                "print(df['crew'].head().apply(find_director))"
            ]
        },
        {
            "cell_type": "code",
            "execution_count": 8,
            "metadata": {},
            "outputs": [],
            "source": [
                "# Aplicar las funciones a las columnas correspondientes en el DataFrame completo\n",
                "df['keywords'] = df['keywords'].apply(extract_keyword_names)\n",
                "df['cast'] = df['cast'].apply(extract_cast_names)\n",
                "df['crew'] = df['crew'].apply(find_director)"
            ]
        },
        {
            "cell_type": "code",
            "execution_count": 9,
            "metadata": {},
            "outputs": [],
            "source": [
                "# Para cada columna en ['genres', 'keywords', 'cast', 'crew'], \n",
                "# elimina los espacios para evitar confusiones en el modelo de recomendación\n",
                "def remove_spaces(l):\n",
                "    return [i.replace(' ', '') for i in l]\n",
                "\n",
                "df['genres'] = df['genres'].apply(remove_spaces)\n",
                "df['keywords'] = df['keywords'].apply(remove_spaces)\n",
                "df['cast'] = df['cast'].apply(remove_spaces)\n",
                "df['crew'] = df['crew'].apply(lambda x: x.replace(' ', '') if x else '')"
            ]
        },
        {
            "cell_type": "code",
            "execution_count": 10,
            "metadata": {},
            "outputs": [
                {
                    "name": "stdout",
                    "output_type": "stream",
                    "text": [
                        "0    In the 22nd century, a paraplegic Marine is di...\n",
                        "1    Captain Barbossa, long believed to be dead, ha...\n",
                        "2    A cryptic message from Bond’s past sends him o...\n",
                        "3    Following the death of District Attorney Harve...\n",
                        "4    John Carter is a war-weary, former military ca...\n",
                        "Name: tags, dtype: object\n"
                    ]
                }
            ],
            "source": [
                "# Crear la columna 'tags' combinando 'overview' (convertida a lista de palabras si no es None),\n",
                "# 'genres', 'keywords', 'cast', y 'crew' en una cadena de texto única.\n",
                "df['tags'] = df.apply(lambda row: ' '.join(\n",
                "    (row['overview'] or '').split() +     # Para no tener error cuando 'overview' esté vacía \n",
                "    row['genres'] +\n",
                "    row['keywords'] +\n",
                "    row['cast'] +\n",
                "    ([row['crew']] if row['crew'] else [])\n",
                "), axis=1)\n",
                "\n",
                "# Muestra una muestra de la columna 'tags' para verificar\n",
                "print(df['tags'].head())"
            ]
        },
        {
            "cell_type": "code",
            "execution_count": 11,
            "metadata": {},
            "outputs": [
                {
                    "data": {
                        "text/plain": [
                            "Index(['movie_id', 'title', 'overview', 'genres', 'keywords', 'cast', 'crew',\n",
                            "       'tags'],\n",
                            "      dtype='object')"
                        ]
                    },
                    "execution_count": 11,
                    "metadata": {},
                    "output_type": "execute_result"
                }
            ],
            "source": [
                "df.columns"
            ]
        },
        {
            "cell_type": "code",
            "execution_count": 12,
            "metadata": {},
            "outputs": [
                {
                    "data": {
                        "text/plain": [
                            "'In the 22nd century, a paraplegic Marine is dispatched to the moon Pandora on a unique mission, but becomes torn between following orders and protecting an alien civilization. [ { \" i d \" :  2 8 ,  \" n a m e \" :  \" A c t i o n \" } ,  { \" i d \" :  1 2 ,  \" n a m e \" :  \" A d v e n t u r e \" } ,  { \" i d \" :  1 4 ,  \" n a m e \" :  \" F a n t a s y \" } ,  { \" i d \" :  8 7 8 ,  \" n a m e \" :  \" S c i e n c e  F i c t i o n \" } ] cultureclash future spacewar spacecolony society spacetravel futuristic romance space alien tribe alienplanet cgi marine soldier battle loveaffair antiwar powerrelations mindandsoul 3d SamWorthington ZoeSaldana SigourneyWeaver JamesCameron'"
                        ]
                    },
                    "execution_count": 12,
                    "metadata": {},
                    "output_type": "execute_result"
                }
            ],
            "source": [
                "df['tags'][0]"
            ]
        },
        {
            "cell_type": "code",
            "execution_count": 13,
            "metadata": {},
            "outputs": [],
            "source": [
                "# Guardar el DataFrame como CSV\n",
                "file_path = '../data/interim/df.csv'\n",
                "df.to_csv(file_path, index=False)"
            ]
        },
        {
            "cell_type": "code",
            "execution_count": 14,
            "metadata": {},
            "outputs": [],
            "source": [
                "# Transformamos 'tags' en una matriz de vectores numéricos\n",
                "tfidf = TfidfVectorizer(stop_words='english')\n",
                "tfidf_matrix = tfidf.fit_transform(df['tags'])"
            ]
        },
        {
            "cell_type": "code",
            "execution_count": 15,
            "metadata": {},
            "outputs": [],
            "source": [
                "# Guardar la matriz como TF-IDF\n",
                "file_path_matrix = '../data/processed/tfidf_matrix.npz'\n",
                "save_npz(file_path_matrix, tfidf_matrix)"
            ]
        },
        {
            "cell_type": "code",
            "execution_count": 16,
            "metadata": {},
            "outputs": [],
            "source": [
                "# Calcular la similitud del coseno\n",
                "cosine_sim = cosine_similarity(tfidf_matrix, tfidf_matrix)"
            ]
        },
        {
            "cell_type": "code",
            "execution_count": 17,
            "metadata": {},
            "outputs": [],
            "source": [
                "# Función para recomendar películas similares\n",
                "def recommend(movie_title, cosine_sim=cosine_sim, df=df):\n",
                "    # Manejar posibles errores si el título no se encuentra\n",
                "    if movie_title not in df['title'].values:\n",
                "        return f\"Movie title '{movie_title}' not found in the dataset.\"\n",
                "    \n",
                "    # Obtener el índice de la película que coincide con el título\n",
                "    idx = df.loc[df['title'] == movie_title].index[0]\n",
                "    \n",
                "    # Obtener las puntuaciones de similitud para esa película con todas las demás\n",
                "    sim_scores = list(enumerate(cosine_sim[idx]))\n",
                "    \n",
                "    # Ordenar las películas en función de las puntuaciones de similitud\n",
                "    sim_scores = sorted(sim_scores, key=lambda x: x[1], reverse=True)\n",
                "    \n",
                "    # Obtener los índices de las 'k' películas más similares (excluyendo la propia película)\n",
                "    sim_scores = sim_scores[1:6]  # Aquí 'k' es 5\n",
                "    \n",
                "    # Obtener los índices de las películas\n",
                "    movie_indices = [i[0] for i in sim_scores]\n",
                "    \n",
                "    # Devolver los títulos de las películas más similares\n",
                "    return df['title'].iloc[movie_indices]"
            ]
        },
        {
            "cell_type": "code",
            "execution_count": 18,
            "metadata": {},
            "outputs": [
                {
                    "name": "stdout",
                    "output_type": "stream",
                    "text": [
                        "2826             Chronicle\n",
                        "3988         Hustle & Flow\n",
                        "1082    Revolutionary Road\n",
                        "1750    Notes on a Scandal\n",
                        "1444     The Shipping News\n",
                        "Name: title, dtype: object\n"
                    ]
                }
            ],
            "source": [
                "# Probamos la función\n",
                "recommendations = recommend(\"American Beauty\")\n",
                "print(recommendations)"
            ]
        },
        {
            "cell_type": "code",
            "execution_count": 19,
            "metadata": {},
            "outputs": [
                {
                    "data": {
                        "text/plain": [
                            "['../models/tfidf_vectorizer.joblib']"
                        ]
                    },
                    "execution_count": 19,
                    "metadata": {},
                    "output_type": "execute_result"
                }
            ],
            "source": [
                "# Guardar el vectorizador TF-IDF\n",
                "dump(tfidf, '../models/tfidf_vectorizer.joblib')"
            ]
        },
        {
            "cell_type": "markdown",
            "metadata": {},
            "source": [
                "Conclusión Final\n",
                "El proyecto de sistema de recomendación de películas ha demostrado ser una iniciativa exitosa en la aplicación de técnicas avanzadas de procesamiento de lenguaje natural y aprendizaje automático para ofrecer recomendaciones personalizadas. A través de un cuidadoso proceso de limpieza, preparación y análisis de datos, se ha desarrollado un sistema capaz de entender las preferencias del usuario y sugerir películas similares que probablemente sean de su interés.\n",
                "\n",
                "La integración y transformación de datos provenientes de diversas fuentes han sido esenciales para construir una base sólida para el análisis. La implementación de vectorización TF-IDF y la similitud del coseno han permitido cuantificar la relación entre películas de manera eficaz, destacando la importancia de las técnicas de NLP en el campo del análisis de recomendaciones.\n",
                "\n",
                "El uso del algoritmo KNN como base para el modelo de recomendación ha demostrado ser eficaz en la identificación de películas similares, ofreciendo a los usuarios una selección personalizada y relevante. \n",
                "\n",
                "En conclusión, este proyecto ha alcanzado su objetivo de desarrollar un sistema de recomendación de películas basado en contenido, estableciendo un modelo sólido que puede ser extendido o mejorado con datos adicionales, técnicas de procesamiento de texto más avanzadas o incluso integrando otros modelos predictivos. "
            ]
        }
    ],
    "metadata": {
        "kernelspec": {
            "display_name": "Python 3.8.13 64-bit ('3.8.13')",
            "language": "python",
            "name": "python3"
        },
        "language_info": {
            "codemirror_mode": {
                "name": "ipython",
                "version": 3
            },
            "file_extension": ".py",
            "mimetype": "text/x-python",
            "name": "python",
            "nbconvert_exporter": "python",
            "pygments_lexer": "ipython3",
            "version": "3.10.12"
        },
        "orig_nbformat": 4,
        "vscode": {
            "interpreter": {
                "hash": "110cc1dee26208153f2972f08a2ad52b6a56238dc66d48e87fb757ef2996db56"
            }
        }
    },
    "nbformat": 4,
    "nbformat_minor": 2
}
